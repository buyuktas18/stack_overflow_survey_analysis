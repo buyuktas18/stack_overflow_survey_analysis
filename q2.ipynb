{
 "cells": [
  {
   "cell_type": "markdown",
   "metadata": {},
   "source": [
    "# Is the programming language want to be worked influenced by the profession?"
   ]
  },
  {
   "cell_type": "code",
   "execution_count": 7,
   "metadata": {},
   "outputs": [],
   "source": [
    "import pandas as pd\n",
    "import numpy as np"
   ]
  },
  {
   "cell_type": "markdown",
   "metadata": {},
   "source": [
    "### Fetch the data"
   ]
  },
  {
   "cell_type": "code",
   "execution_count": 8,
   "metadata": {},
   "outputs": [],
   "source": [
    "#read from file\n",
    "df_2018 = pd.read_csv(\"./data/survey_results_public_2018.csv\", low_memory=False)\n",
    "df_2019 = pd.read_csv(\"./data/survey_results_public_2019.csv\")\n",
    "df_2020 = pd.read_csv(\"./data/survey_results_public_2020.csv\")\n",
    "df_2021 = pd.read_csv(\"./data/survey_results_public_2021.csv\")"
   ]
  },
  {
   "cell_type": "code",
   "execution_count": 9,
   "metadata": {},
   "outputs": [],
   "source": [
    "df_merged1 = pd.concat([df_2018, df_2019], sort=False)\n",
    "df_merged2 = pd.concat([df_2020, df_2021], sort=False)\n",
    "df_merged = pd.concat([df_merged1, df_merged2], sort=False)"
   ]
  },
  {
   "cell_type": "code",
   "execution_count": 10,
   "metadata": {},
   "outputs": [
    {
     "data": {
      "text/plain": [
       "True"
      ]
     },
     "execution_count": 10,
     "metadata": {},
     "output_type": "execute_result"
    }
   ],
   "source": [
    "#check the length of the merged dataframe\n",
    "len(df_2018) + len(df_2019) + len(df_2020) + len(df_2021) == len(df_merged)"
   ]
  },
  {
   "cell_type": "markdown",
   "metadata": {},
   "source": [
    "### Data Cleaning"
   ]
  },
  {
   "cell_type": "code",
   "execution_count": 11,
   "metadata": {},
   "outputs": [
    {
     "data": {
      "text/plain": [
       "['Respondent',\n",
       " 'Hobby',\n",
       " 'OpenSource',\n",
       " 'Country',\n",
       " 'Student',\n",
       " 'Employment',\n",
       " 'FormalEducation',\n",
       " 'UndergradMajor',\n",
       " 'CompanySize',\n",
       " 'DevType',\n",
       " 'YearsCoding',\n",
       " 'YearsCodingProf',\n",
       " 'JobSatisfaction',\n",
       " 'CareerSatisfaction',\n",
       " 'HopeFiveYears',\n",
       " 'JobSearchStatus',\n",
       " 'LastNewJob',\n",
       " 'AssessJob1',\n",
       " 'AssessJob2',\n",
       " 'AssessJob3',\n",
       " 'AssessJob4',\n",
       " 'AssessJob5',\n",
       " 'AssessJob6',\n",
       " 'AssessJob7',\n",
       " 'AssessJob8',\n",
       " 'AssessJob9',\n",
       " 'AssessJob10',\n",
       " 'AssessBenefits1',\n",
       " 'AssessBenefits2',\n",
       " 'AssessBenefits3',\n",
       " 'AssessBenefits4',\n",
       " 'AssessBenefits5',\n",
       " 'AssessBenefits6',\n",
       " 'AssessBenefits7',\n",
       " 'AssessBenefits8',\n",
       " 'AssessBenefits9',\n",
       " 'AssessBenefits10',\n",
       " 'AssessBenefits11',\n",
       " 'JobContactPriorities1',\n",
       " 'JobContactPriorities2',\n",
       " 'JobContactPriorities3',\n",
       " 'JobContactPriorities4',\n",
       " 'JobContactPriorities5',\n",
       " 'JobEmailPriorities1',\n",
       " 'JobEmailPriorities2',\n",
       " 'JobEmailPriorities3',\n",
       " 'JobEmailPriorities4',\n",
       " 'JobEmailPriorities5',\n",
       " 'JobEmailPriorities6',\n",
       " 'JobEmailPriorities7',\n",
       " 'UpdateCV',\n",
       " 'Currency',\n",
       " 'Salary',\n",
       " 'SalaryType',\n",
       " 'ConvertedSalary',\n",
       " 'CurrencySymbol',\n",
       " 'CommunicationTools',\n",
       " 'TimeFullyProductive',\n",
       " 'EducationTypes',\n",
       " 'SelfTaughtTypes',\n",
       " 'TimeAfterBootcamp',\n",
       " 'HackathonReasons',\n",
       " 'AgreeDisagree1',\n",
       " 'AgreeDisagree2',\n",
       " 'AgreeDisagree3',\n",
       " 'LanguageWorkedWith',\n",
       " 'LanguageDesireNextYear',\n",
       " 'DatabaseWorkedWith',\n",
       " 'DatabaseDesireNextYear',\n",
       " 'PlatformWorkedWith',\n",
       " 'PlatformDesireNextYear',\n",
       " 'FrameworkWorkedWith',\n",
       " 'FrameworkDesireNextYear',\n",
       " 'IDE',\n",
       " 'OperatingSystem',\n",
       " 'NumberMonitors',\n",
       " 'Methodology',\n",
       " 'VersionControl',\n",
       " 'CheckInCode',\n",
       " 'AdBlocker',\n",
       " 'AdBlockerDisable',\n",
       " 'AdBlockerReasons',\n",
       " 'AdsAgreeDisagree1',\n",
       " 'AdsAgreeDisagree2',\n",
       " 'AdsAgreeDisagree3',\n",
       " 'AdsActions',\n",
       " 'AdsPriorities1',\n",
       " 'AdsPriorities2',\n",
       " 'AdsPriorities3',\n",
       " 'AdsPriorities4',\n",
       " 'AdsPriorities5',\n",
       " 'AdsPriorities6',\n",
       " 'AdsPriorities7',\n",
       " 'AIDangerous',\n",
       " 'AIInteresting',\n",
       " 'AIResponsible',\n",
       " 'AIFuture',\n",
       " 'EthicsChoice',\n",
       " 'EthicsReport',\n",
       " 'EthicsResponsible',\n",
       " 'EthicalImplications',\n",
       " 'StackOverflowRecommend',\n",
       " 'StackOverflowVisit',\n",
       " 'StackOverflowHasAccount',\n",
       " 'StackOverflowParticipate',\n",
       " 'StackOverflowJobs',\n",
       " 'StackOverflowDevStory',\n",
       " 'StackOverflowJobsRecommend',\n",
       " 'StackOverflowConsiderMember',\n",
       " 'HypotheticalTools1',\n",
       " 'HypotheticalTools2',\n",
       " 'HypotheticalTools3',\n",
       " 'HypotheticalTools4',\n",
       " 'HypotheticalTools5',\n",
       " 'WakeTime',\n",
       " 'HoursComputer',\n",
       " 'HoursOutside',\n",
       " 'SkipMeals',\n",
       " 'ErgonomicDevices',\n",
       " 'Exercise',\n",
       " 'Gender',\n",
       " 'SexualOrientation',\n",
       " 'EducationParents',\n",
       " 'RaceEthnicity',\n",
       " 'Age',\n",
       " 'Dependents',\n",
       " 'MilitaryUS',\n",
       " 'SurveyTooLong',\n",
       " 'SurveyEasy',\n",
       " 'MainBranch',\n",
       " 'Hobbyist',\n",
       " 'OpenSourcer',\n",
       " 'EdLevel',\n",
       " 'EduOther',\n",
       " 'OrgSize',\n",
       " 'YearsCode',\n",
       " 'Age1stCode',\n",
       " 'YearsCodePro',\n",
       " 'CareerSat',\n",
       " 'JobSat',\n",
       " 'MgrIdiot',\n",
       " 'MgrMoney',\n",
       " 'MgrWant',\n",
       " 'JobSeek',\n",
       " 'LastHireDate',\n",
       " 'LastInt',\n",
       " 'FizzBuzz',\n",
       " 'JobFactors',\n",
       " 'ResumeUpdate',\n",
       " 'CurrencyDesc',\n",
       " 'CompTotal',\n",
       " 'CompFreq',\n",
       " 'ConvertedComp',\n",
       " 'WorkWeekHrs',\n",
       " 'WorkPlan',\n",
       " 'WorkChallenge',\n",
       " 'WorkRemote',\n",
       " 'WorkLoc',\n",
       " 'ImpSyn',\n",
       " 'CodeRev',\n",
       " 'CodeRevHrs',\n",
       " 'UnitTests',\n",
       " 'PurchaseHow',\n",
       " 'PurchaseWhat',\n",
       " 'WebFrameWorkedWith',\n",
       " 'WebFrameDesireNextYear',\n",
       " 'MiscTechWorkedWith',\n",
       " 'MiscTechDesireNextYear',\n",
       " 'DevEnviron',\n",
       " 'OpSys',\n",
       " 'Containers',\n",
       " 'BlockchainOrg',\n",
       " 'BlockchainIs',\n",
       " 'BetterLife',\n",
       " 'ITperson',\n",
       " 'OffOn',\n",
       " 'SocialMedia',\n",
       " 'Extraversion',\n",
       " 'ScreenName',\n",
       " 'SOVisit1st',\n",
       " 'SOVisitFreq',\n",
       " 'SOVisitTo',\n",
       " 'SOFindAnswer',\n",
       " 'SOTimeSaved',\n",
       " 'SOHowMuchTime',\n",
       " 'SOAccount',\n",
       " 'SOPartFreq',\n",
       " 'SOJobs',\n",
       " 'EntTeams',\n",
       " 'SOComm',\n",
       " 'WelcomeChange',\n",
       " 'SONewContent',\n",
       " 'Trans',\n",
       " 'Sexuality',\n",
       " 'Ethnicity',\n",
       " 'SurveyLength',\n",
       " 'SurveyEase',\n",
       " 'NEWCollabToolsDesireNextYear',\n",
       " 'NEWCollabToolsWorkedWith',\n",
       " 'NEWDevOps',\n",
       " 'NEWDevOpsImpt',\n",
       " 'NEWEdImpt',\n",
       " 'NEWJobHunt',\n",
       " 'NEWJobHuntResearch',\n",
       " 'NEWLearn',\n",
       " 'NEWOffTopic',\n",
       " 'NEWOnboardGood',\n",
       " 'NEWOtherComms',\n",
       " 'NEWOvertime',\n",
       " 'NEWPurchaseResearch',\n",
       " 'NEWPurpleLink',\n",
       " 'NEWSOSites',\n",
       " 'NEWStuck',\n",
       " 'WebframeDesireNextYear',\n",
       " 'WebframeWorkedWith',\n",
       " 'ResponseId',\n",
       " 'US_State',\n",
       " 'UK_Country',\n",
       " 'LearnCode',\n",
       " 'LanguageHaveWorkedWith',\n",
       " 'LanguageWantToWorkWith',\n",
       " 'DatabaseHaveWorkedWith',\n",
       " 'DatabaseWantToWorkWith',\n",
       " 'PlatformHaveWorkedWith',\n",
       " 'PlatformWantToWorkWith',\n",
       " 'WebframeHaveWorkedWith',\n",
       " 'WebframeWantToWorkWith',\n",
       " 'MiscTechHaveWorkedWith',\n",
       " 'MiscTechWantToWorkWith',\n",
       " 'ToolsTechHaveWorkedWith',\n",
       " 'ToolsTechWantToWorkWith',\n",
       " 'NEWCollabToolsHaveWorkedWith',\n",
       " 'NEWCollabToolsWantToWorkWith',\n",
       " 'Accessibility',\n",
       " 'MentalHealth',\n",
       " 'ConvertedCompYearly']"
      ]
     },
     "execution_count": 11,
     "metadata": {},
     "output_type": "execute_result"
    }
   ],
   "source": [
    "#Let's look at column names\n",
    "list(df_merged.columns.values)"
   ]
  },
  {
   "cell_type": "code",
   "execution_count": 12,
   "metadata": {},
   "outputs": [
    {
     "data": {
      "text/plain": [
       "Developer, full-stack                                                                                                                                                                                                                                                                                                              21458\n",
       "Developer, back-end                                                                                                                                                                                                                                                                                                                13466\n",
       "Back-end developer                                                                                                                                                                                                                                                                                                                  6417\n",
       "Full-stack developer                                                                                                                                                                                                                                                                                                                6104\n",
       "Developer, front-end                                                                                                                                                                                                                                                                                                                6015\n",
       "Student                                                                                                                                                                                                                                                                                                                             5535\n",
       "Developer, mobile                                                                                                                                                                                                                                                                                                                   5167\n",
       "Developer, back-end;Developer, front-end;Developer, full-stack                                                                                                                                                                                                                                                                      4626\n",
       "Back-end developer;Front-end developer;Full-stack developer                                                                                                                                                                                                                                                                         4460\n",
       "Developer, back-end;Developer, full-stack                                                                                                                                                                                                                                                                                           3523\n",
       "Mobile developer                                                                                                                                                                                                                                                                                                                    3518\n",
       "Back-end developer;Full-stack developer                                                                                                                                                                                                                                                                                             3128\n",
       "Developer, front-end;Developer, full-stack                                                                                                                                                                                                                                                                                          2856\n",
       "Front-end developer                                                                                                                                                                                                                                                                                                                 2608\n",
       "Developer, desktop or enterprise applications                                                                                                                                                                                                                                                                                       2481\n",
       "Data scientist or machine learning specialist                                                                                                                                                                                                                                                                                       2423\n",
       "Developer, front-end;Developer, full-stack;Developer, back-end                                                                                                                                                                                                                                                                      2141\n",
       "Developer, embedded applications or devices                                                                                                                                                                                                                                                                                         1833\n",
       "Developer, full-stack;Developer, back-end                                                                                                                                                                                                                                                                                           1774\n",
       "Other (please specify):                                                                                                                                                                                                                                                                                                             1704\n",
       "Developer, back-end;Developer, desktop or enterprise applications;Developer, front-end;Developer, full-stack                                                                                                                                                                                                                        1698\n",
       "Data or business analyst                                                                                                                                                                                                                                                                                                            1536\n",
       "Developer, back-end;Developer, desktop or enterprise applications                                                                                                                                                                                                                                                                   1497\n",
       "Engineering manager                                                                                                                                                                                                                                                                                                                 1443\n",
       "DevOps specialist                                                                                                                                                                                                                                                                                                                   1190\n",
       "Developer, back-end;Developer, front-end;Developer, full-stack;Developer, mobile                                                                                                                                                                                                                                                    1180\n",
       "Developer, back-end;Developer, desktop or enterprise applications;Developer, full-stack                                                                                                                                                                                                                                             1147\n",
       "Developer, desktop or enterprise applications;Developer, full-stack                                                                                                                                                                                                                                                                 1126\n",
       "Developer, QA or test                                                                                                                                                                                                                                                                                                               1117\n",
       "Front-end developer;Full-stack developer                                                                                                                                                                                                                                                                                            1117\n",
       "                                                                                                                                                                                                                                                                                                                                   ...  \n",
       "Back-end developer;Embedded applications or devices developer;Engineering manager;Game or graphics developer;Product manager                                                                                                                                                                                                           1\n",
       "Developer, mobile;Developer, front-end;Developer, desktop or enterprise applications;Developer, full-stack;Engineer, data;Developer, back-end;Database administrator;Data or business analyst;Designer;System administrator                                                                                                            1\n",
       "Designer;Developer, back-end;Developer, desktop or enterprise applications;Developer, embedded applications or devices;Developer, front-end;Developer, full-stack;Engineer, site reliability;System administrator                                                                                                                      1\n",
       "Data or business analyst;Data scientist or machine learning specialist;Desktop or enterprise applications developer;Mobile developer;Student                                                                                                                                                                                           1\n",
       "Back-end developer;Designer;Embedded applications or devices developer;Front-end developer;Full-stack developer;Game or graphics developer;Mobile developer;Student                                                                                                                                                                    1\n",
       "Academic researcher;Data scientist or machine learning specialist;Developer, embedded applications or devices;Developer, front-end                                                                                                                                                                                                     1\n",
       "Data or business analyst;Developer, back-end;Developer, desktop or enterprise applications;Developer, full-stack;Developer, game or graphics                                                                                                                                                                                           1\n",
       "Engineer, data;Data scientist or machine learning specialist;Academic researcher;Developer, embedded applications or devices;Educator                                                                                                                                                                                                  1\n",
       "Back-end developer;Data scientist or machine learning specialist;Database administrator;DevOps specialist;Engineering manager;Front-end developer;Full-stack developer;Product manager;QA or test developer;System administrator                                                                                                       1\n",
       "Developer, front-end;Developer, desktop or enterprise applications;Developer, full-stack;Developer, back-end;DevOps specialist;Engineer, site reliability;Educator                                                                                                                                                                     1\n",
       "Developer, mobile;Developer, front-end;Developer, full-stack;Developer, back-end;Developer, embedded applications or devices;Designer;Product manager;Marketing or sales professional                                                                                                                                                  1\n",
       "Academic researcher;Data scientist or machine learning specialist;Developer, back-end;Developer, front-end;Developer, game or graphics;Developer, mobile                                                                                                                                                                               1\n",
       "Developer, mobile;Developer, desktop or enterprise applications;Developer, full-stack;Engineer, data;Other (please specify):;Database administrator                                                                                                                                                                                    1\n",
       "Designer;Developer, desktop or enterprise applications;Developer, front-end;Developer, full-stack;Developer, game or graphics;Developer, mobile;Student                                                                                                                                                                                1\n",
       "Academic researcher;Designer;Developer, back-end;Developer, front-end;Developer, full-stack;Developer, QA or test;DevOps specialist;Educator;System administrator                                                                                                                                                                      1\n",
       "Back-end developer;C-suite executive (CEO, CTO, etc.);Desktop or enterprise applications developer;Educator or academic researcher;Embedded applications or devices developer;Engineering manager;Front-end developer;Full-stack developer;Game or graphics developer;Marketing or sales professional                                  1\n",
       "Developer, full-stack;Data scientist or machine learning specialist;Developer, back-end;Scientist;Designer                                                                                                                                                                                                                             1\n",
       "Database administrator;Desktop or enterprise applications developer;Educator or academic researcher;Full-stack developer                                                                                                                                                                                                               1\n",
       "Academic researcher;Developer, back-end;Developer, front-end;Developer, full-stack;Developer, QA or test;DevOps specialist;Educator;Engineer, site reliability                                                                                                                                                                         1\n",
       "Developer, mobile;Developer, full-stack;Scientist;Developer, embedded applications or devices;Product manager                                                                                                                                                                                                                          1\n",
       "Academic researcher;Developer, back-end;Developer, desktop or enterprise applications;Developer, embedded applications or devices;Developer, front-end;Developer, full-stack;Developer, game or graphics;Developer, mobile;Educator;Engineer, data;Student                                                                             1\n",
       "Back-end developer;C-suite executive (CEO, CTO, etc.);Database administrator;DevOps specialist;Engineering manager;Full-stack developer                                                                                                                                                                                                1\n",
       "Database administrator;Developer, back-end;Developer, full-stack;Developer, mobile;DevOps specialist;Engineering manager;Product manager                                                                                                                                                                                               1\n",
       "Academic researcher;Designer;Developer, embedded applications or devices;Engineer, data;Scientist                                                                                                                                                                                                                                      1\n",
       "Database administrator;Developer, back-end;Developer, desktop or enterprise applications;Developer, embedded applications or devices;Developer, front-end;Developer, full-stack;Developer, QA or test;DevOps specialist;Engineer, site reliability;Engineering manager;Product manager;Senior executive/VP;System administrator        1\n",
       "Academic researcher;Developer, back-end;Developer, embedded applications or devices;Developer, mobile;DevOps specialist;Student                                                                                                                                                                                                        1\n",
       "Developer, desktop or enterprise applications;Data scientist or machine learning specialist;Database administrator;DevOps specialist;Data or business analyst;Engineering manager;System administrator                                                                                                                                 1\n",
       "Back-end developer;C-suite executive (CEO, CTO, etc.);Data or business analyst;Front-end developer;Full-stack developer;QA or test developer                                                                                                                                                                                           1\n",
       "Developer, front-end;Developer, desktop or enterprise applications;Scientist;Designer                                                                                                                                                                                                                                                  1\n",
       "Academic researcher;Data scientist or machine learning specialist;DevOps specialist;System administrator                                                                                                                                                                                                                               1\n",
       "Name: DevType, Length: 35738, dtype: int64"
      ]
     },
     "execution_count": 12,
     "metadata": {},
     "output_type": "execute_result"
    }
   ],
   "source": [
    "#search for dev type\n",
    "df_merged[\"DevType\"].value_counts()"
   ]
  },
  {
   "cell_type": "code",
   "execution_count": 13,
   "metadata": {},
   "outputs": [
    {
     "data": {
      "text/plain": [
       "46351"
      ]
     },
     "execution_count": 13,
     "metadata": {},
     "output_type": "execute_result"
    }
   ],
   "source": [
    "#check if DevType column exists on all dataframes\n",
    "np.sum(df_merged.isnull()[\"DevType\"] == True)"
   ]
  },
  {
   "cell_type": "code",
   "execution_count": 14,
   "metadata": {},
   "outputs": [
    {
     "data": {
      "text/plain": [
       "True"
      ]
     },
     "execution_count": 14,
     "metadata": {},
     "output_type": "execute_result"
    }
   ],
   "source": [
    "#There are some NULL values, then we can wonder if there is a dataframe which doesn't contain DevType column\n",
    "\"DevType\" in list(df_2018.columns.values) and \\\n",
    "\"DevType\" in list(df_2019.columns.values) and \\\n",
    "\"DevType\" in list(df_2020.columns.values) and \\\n",
    "\"DevType\" in list(df_2021.columns.values) "
   ]
  },
  {
   "cell_type": "code",
   "execution_count": 31,
   "metadata": {},
   "outputs": [
    {
     "data": {
      "text/plain": [
       "Python                                                                                    3296\n",
       "C#                                                                                        1662\n",
       "Java                                                                                      1532\n",
       "Go                                                                                        1278\n",
       "HTML/CSS;JavaScript;TypeScript                                                            1147\n",
       "HTML/CSS;JavaScript                                                                       1107\n",
       "JavaScript                                                                                1099\n",
       "Kotlin                                                                                    1098\n",
       "Swift                                                                                     1094\n",
       "C#;HTML/CSS;JavaScript;SQL;TypeScript                                                      969\n",
       "Rust                                                                                       949\n",
       "C++                                                                                        885\n",
       "C#;HTML/CSS;JavaScript;SQL                                                                 858\n",
       "HTML/CSS;JavaScript;PHP;SQL                                                                852\n",
       "C#;SQL                                                                                     835\n",
       "Java;Kotlin                                                                                824\n",
       "C++;Python                                                                                 824\n",
       "TypeScript                                                                                 810\n",
       "JavaScript;Python                                                                          786\n",
       "Go;Python                                                                                  762\n",
       "Java;Python                                                                                735\n",
       "Python;R                                                                                   632\n",
       "HTML/CSS;JavaScript;Python                                                                 629\n",
       "Python;SQL                                                                                 625\n",
       "C#;JavaScript;SQL;TypeScript;HTML;CSS                                                      605\n",
       "HTML/CSS;JavaScript;PHP                                                                    558\n",
       "JavaScript;HTML;CSS                                                                        550\n",
       "C#;JavaScript;SQL;HTML;CSS                                                                 548\n",
       "C#;HTML/CSS;JavaScript;TypeScript                                                          526\n",
       "JavaScript;TypeScript                                                                      521\n",
       "                                                                                          ... \n",
       "Elixir;F#;Java;JavaScript;Kotlin;Scala;TypeScript;Other(s):                                  1\n",
       "Erlang;Ruby;Swift                                                                            1\n",
       "Assembly;F#;Go;Hack;Lua;Perl;Rust;Cobol                                                      1\n",
       "C;C++;Dart;HTML/CSS;Java;JavaScript;Kotlin;Python;Rust;Swift                                 1\n",
       "Erlang;Go;Haskell;Python;Ruby                                                                1\n",
       "Assembly;C;C++;JavaScript;Objective-C;Swift;HTML;CSS;Bash/Shell                              1\n",
       "C#;F#;HTML/CSS;JavaScript;R;SQL;TypeScript;VBA;Other(s):                                     1\n",
       "C;C#;Go;Ruby;Swift                                                                           1\n",
       "Bash/Shell/PowerShell;Haskell;Julia;Rust                                                     1\n",
       "C++;C#;Clojure;Erlang;F#;Go;Python;R;Ruby;Rust;Scala;SQL;Swift;TypeScript;Kotlin             1\n",
       "C#;Dart;Go;Kotlin;PHP;Python;Ruby;Rust;SQL;TypeScript                                        1\n",
       "Bash/Shell/PowerShell;C#;Go;Java;Python;TypeScript                                           1\n",
       "Bash/Shell/PowerShell;C;Erlang;PHP;Python;SQL;TypeScript                                     1\n",
       "C#;HTML/CSS;Java;JavaScript;Kotlin;PHP;Python;Ruby;SQL;TypeScript;VBA                        1\n",
       "C#;Dart;WebAssembly                                                                          1\n",
       "Bash/Shell/PowerShell;C#;HTML/CSS;JavaScript;Kotlin;Rust;TypeScript                          1\n",
       "C;Java;JavaScript;PHP;Python;R;SQL;HTML;CSS                                                  1\n",
       "C++;CoffeeScript;Java;JavaScript;Matlab;Perl;PHP;Python;Ruby;SQL;VB.NET;Cobol;HTML;CSS       1\n",
       "C#;F#;JavaScript;Objective-C;SQL;Swift;TypeScript;HTML;CSS                                   1\n",
       "Dart;Go;Java;Python;TypeScript                                                               1\n",
       "C;C++;C#;Go;Java;JavaScript;Objective-C;PHP;Python;Ruby;Swift;HTML;CSS;Bash/Shell            1\n",
       "Bash/Shell/PowerShell;Java;JavaScript;Kotlin;PHP;Python;SQL                                  1\n",
       "Assembly;C;C++;Java;JavaScript;Matlab;PHP;Python;SQL;HTML;CSS;Bash/Shell                     1\n",
       "C;C++;C#;Clojure;Go;Java;Rust;Scala;Swift                                                    1\n",
       "Go;Java;JavaScript;Scala;TypeScript;Kotlin                                                   1\n",
       "Assembly;C++;HTML/CSS;JavaScript;TypeScript                                                  1\n",
       "C#;Dart;HTML/CSS;Java;Kotlin;Swift                                                           1\n",
       "Java;JavaScript;Objective-C;PHP;Python;SQL;TypeScript;HTML;CSS;Bash/Shell                    1\n",
       "Clojure;F#;Haskell;Rust;Ocaml;HTML;CSS                                                       1\n",
       "Elixir;Erlang;F#;Rust;Other(s):                                                              1\n",
       "Name: LanguageDesireNextYear, Length: 64886, dtype: int64"
      ]
     },
     "execution_count": 31,
     "metadata": {},
     "output_type": "execute_result"
    }
   ],
   "source": [
    "# Now, it is the order for the programming language which is want to be worked with\n",
    "df_merged[\"LanguageDesireNextYear\"].value_counts()"
   ]
  },
  {
   "cell_type": "code",
   "execution_count": 33,
   "metadata": {},
   "outputs": [
    {
     "data": {
      "text/plain": [
       "124193"
      ]
     },
     "execution_count": 33,
     "metadata": {},
     "output_type": "execute_result"
    }
   ],
   "source": [
    "#check if LanguageDesireNextYear column exists on all dataframes\n",
    "np.sum(df_merged.isnull()[\"LanguageDesireNextYear\"] == True)"
   ]
  },
  {
   "cell_type": "code",
   "execution_count": 15,
   "metadata": {},
   "outputs": [
    {
     "data": {
      "text/plain": [
       "False"
      ]
     },
     "execution_count": 15,
     "metadata": {},
     "output_type": "execute_result"
    }
   ],
   "source": [
    "#This number is quite high, so we can check the column names of all dataframes\n",
    "\"LanguageDesireNextYear\" in list(df_2018.columns.values) and \\\n",
    "\"LanguageDesireNextYear\" in list(df_2019.columns.values) and \\\n",
    "\"LanguageDesireNextYear\" in list(df_2020.columns.values) and \\\n",
    "\"LanguageDesireNextYear\" in list(df_2021.columns.values) "
   ]
  },
  {
   "cell_type": "code",
   "execution_count": 16,
   "metadata": {},
   "outputs": [
    {
     "data": {
      "text/plain": [
       "True"
      ]
     },
     "execution_count": 16,
     "metadata": {},
     "output_type": "execute_result"
    }
   ],
   "source": [
    "#As it can be seen, we can include one more column to cover all data and it is LanguageWantToWorkedWith in df_2021\n",
    "\"LanguageWantToWorkWith\" in list(df_2021.columns.values) "
   ]
  },
  {
   "cell_type": "code",
   "execution_count": 17,
   "metadata": {},
   "outputs": [],
   "source": [
    "#Create a combined colum which gather LanguageDesireNextYear from 2018, 2019 and 2020; LanguageWantToWorkWith from 2021\n",
    "idx = len(df_2021)\n",
    "remaining_index = len(df_merged) - idx \n",
    "new_column = df_merged[\"LanguageDesireNextYear\"][0:remaining_index].values.tolist()\n",
    "new_column.extend(df_merged[\"LanguageWantToWorkWith\"][remaining_index:].values.tolist())"
   ]
  },
  {
   "cell_type": "code",
   "execution_count": 18,
   "metadata": {},
   "outputs": [
    {
     "data": {
      "text/plain": [
       "True"
      ]
     },
     "execution_count": 18,
     "metadata": {},
     "output_type": "execute_result"
    }
   ],
   "source": [
    "len(new_column) == len(df_merged)"
   ]
  },
  {
   "cell_type": "code",
   "execution_count": 19,
   "metadata": {},
   "outputs": [],
   "source": [
    "df_merged[\"DesiredLang\"] = new_column"
   ]
  },
  {
   "cell_type": "code",
   "execution_count": 20,
   "metadata": {},
   "outputs": [],
   "source": [
    "#Drop the nan values\n",
    "df_merged.dropna(subset=[\"DevType\", \"DesiredLang\"], inplace=True)"
   ]
  },
  {
   "cell_type": "code",
   "execution_count": 55,
   "metadata": {},
   "outputs": [
    {
     "data": {
      "text/plain": [
       "Developer, full-stack                                                                                                                                                                                                                                                         19634\n",
       "Developer, back-end                                                                                                                                                                                                                                                           12462\n",
       "Developer, front-end                                                                                                                                                                                                                                                           5472\n",
       "Back-end developer                                                                                                                                                                                                                                                             4826\n",
       "Developer, mobile                                                                                                                                                                                                                                                              4771\n",
       "Full-stack developer                                                                                                                                                                                                                                                           4568\n",
       "Student                                                                                                                                                                                                                                                                        4438\n",
       "Developer, back-end;Developer, front-end;Developer, full-stack                                                                                                                                                                                                                 4307\n",
       "Back-end developer;Front-end developer;Full-stack developer                                                                                                                                                                                                                    3593\n",
       "Developer, back-end;Developer, full-stack                                                                                                                                                                                                                                      3306\n",
       "Developer, front-end;Developer, full-stack                                                                                                                                                                                                                                     2703\n",
       "Mobile developer                                                                                                                                                                                                                                                               2636\n",
       "Back-end developer;Full-stack developer                                                                                                                                                                                                                                        2516\n",
       "Developer, desktop or enterprise applications                                                                                                                                                                                                                                  2262\n",
       "Data scientist or machine learning specialist                                                                                                                                                                                                                                  2078\n",
       "Developer, front-end;Developer, full-stack;Developer, back-end                                                                                                                                                                                                                 2011\n",
       "Front-end developer                                                                                                                                                                                                                                                            1893\n",
       "Developer, embedded applications or devices                                                                                                                                                                                                                                    1688\n",
       "Developer, full-stack;Developer, back-end                                                                                                                                                                                                                                      1683\n",
       "Developer, back-end;Developer, desktop or enterprise applications;Developer, front-end;Developer, full-stack                                                                                                                                                                   1593\n",
       "Other (please specify):                                                                                                                                                                                                                                                        1448\n",
       "Developer, back-end;Developer, desktop or enterprise applications                                                                                                                                                                                                              1403\n",
       "Data or business analyst                                                                                                                                                                                                                                                       1310\n",
       "Engineering manager                                                                                                                                                                                                                                                            1232\n",
       "Developer, back-end;Developer, front-end;Developer, full-stack;Developer, mobile                                                                                                                                                                                               1095\n",
       "Developer, back-end;Developer, desktop or enterprise applications;Developer, full-stack                                                                                                                                                                                        1083\n",
       "Developer, desktop or enterprise applications;Developer, full-stack                                                                                                                                                                                                            1068\n",
       "DevOps specialist                                                                                                                                                                                                                                                              1016\n",
       "Developer, QA or test                                                                                                                                                                                                                                                          1004\n",
       "Developer, back-end;DevOps specialist                                                                                                                                                                                                                                           945\n",
       "                                                                                                                                                                                                                                                                              ...  \n",
       "Data scientist or machine learning specialist;Database administrator;Designer;Developer, back-end;Developer, desktop or enterprise applications;Developer, front-end;Developer, full-stack;Developer, mobile;DevOps specialist;Engineer, data;Student;System administrator        1\n",
       "Developer, back-end;Developer, embedded applications or devices;Developer, front-end;Developer, full-stack;Engineering manager                                                                                                                                                    1\n",
       "Data scientist or machine learning specialist;Developer, back-end;Database administrator;Student;Data or business analyst                                                                                                                                                         1\n",
       "Data or business analyst;Front-end developer;Marketing or sales professional                                                                                                                                                                                                      1\n",
       "Back-end developer;Front-end developer;Game or graphics developer;QA or test developer                                                                                                                                                                                            1\n",
       "Database administrator;Designer;Developer, back-end;Developer, desktop or enterprise applications;Developer, embedded applications or devices;Developer, front-end;Developer, full-stack;Engineer, data                                                                           1\n",
       "Academic researcher;Database administrator;Designer;Developer, back-end;Developer, desktop or enterprise applications;Developer, embedded applications or devices;Developer, front-end;Developer, full-stack;Developer, mobile;Educator;Student                                   1\n",
       "Academic researcher;Developer, desktop or enterprise applications;Developer, front-end;Developer, game or graphics;Developer, mobile;Student                                                                                                                                      1\n",
       "Back-end developer;C-suite executive (CEO, CTO, etc.);DevOps specialist;Full-stack developer;Mobile developer;Product manager                                                                                                                                                     1\n",
       "Back-end developer;Embedded applications or devices developer;Front-end developer;System administrator                                                                                                                                                                            1\n",
       "Developer, mobile;Developer, front-end;Developer, desktop or enterprise applications;Developer, full-stack;Developer, back-end;Student;Developer, QA or test;Engineering manager                                                                                                  1\n",
       "Data or business analyst;Designer;Developer, back-end;Developer, desktop or enterprise applications;Developer, full-stack;DevOps specialist;Product manager                                                                                                                       1\n",
       "Back-end developer;C-suite executive (CEO, CTO, etc.);Database administrator;Designer;Desktop or enterprise applications developer;Embedded applications or devices developer;Front-end developer;Full-stack developer;Game or graphics developer;Product manager                 1\n",
       "Database administrator;Developer, back-end;Developer, full-stack;DevOps specialist;Engineer, data;Engineering manager                                                                                                                                                             1\n",
       "Database administrator;Developer, desktop or enterprise applications;Developer, QA or test;Engineer, data                                                                                                                                                                         1\n",
       "Developer, desktop or enterprise applications;Developer, front-end;Engineer, data                                                                                                                                                                                                 1\n",
       "Academic researcher;Database administrator;Educator;Engineer, data;Student                                                                                                                                                                                                        1\n",
       "Engineer, data;Data scientist or machine learning specialist;DevOps specialist;Engineer, site reliability                                                                                                                                                                         1\n",
       "Data or business analyst;Database administrator;Developer, back-end;Developer, desktop or enterprise applications;Developer, full-stack;DevOps specialist;Engineer, data;Student                                                                                                  1\n",
       "Developer, front-end;Developer, desktop or enterprise applications;Developer, full-stack;Developer, back-end;Database administrator;Designer;Engineering manager;Engineer, site reliability;System administrator;Product manager                                                  1\n",
       "Database administrator;Developer, back-end;Developer, front-end;Developer, full-stack;Developer, mobile;DevOps specialist;Engineer, site reliability;Engineering manager                                                                                                          1\n",
       "Developer, front-end;Developer, desktop or enterprise applications;Developer, full-stack;Developer, back-end;Academic researcher;Developer, embedded applications or devices;DevOps specialist;Designer                                                                           1\n",
       "Developer, desktop or enterprise applications;Developer, full-stack;Developer, QA or test;Developer, embedded applications or devices                                                                                                                                             1\n",
       "Developer, front-end;Developer, mobile;Developer, QA or test;Student;System administrator                                                                                                                                                                                         1\n",
       "Data or business analyst;Database administrator;Developer, back-end;Developer, front-end;Developer, mobile;DevOps specialist;System administrator                                                                                                                                 1\n",
       "Other (please specify):;Developer, back-end;Database administrator;Product manager;Senior Executive (C-Suite, VP, etc.)                                                                                                                                                           1\n",
       "Database administrator;Designer;Developer, back-end;Developer, front-end;Developer, full-stack;Developer, QA or test;Engineering manager;Product manager;System administrator                                                                                                     1\n",
       "Academic researcher;Data scientist or machine learning specialist;Designer;Developer, back-end;Developer, desktop or enterprise applications;Developer, front-end;Developer, full-stack;Educator;Scientist                                                                        1\n",
       "Back-end developer;Designer;DevOps specialist;Embedded applications or devices developer;Engineering manager;Front-end developer;Full-stack developer;Mobile developer                                                                                                            1\n",
       "Data or business analyst;Designer;Developer, back-end;Developer, desktop or enterprise applications;Developer, front-end;Developer, full-stack;Educator                                                                                                                           1\n",
       "Name: DevType, Length: 33099, dtype: int64"
      ]
     },
     "execution_count": 55,
     "metadata": {},
     "output_type": "execute_result"
    }
   ],
   "source": [
    "#For simplicity, we will analyze for 4 Developer type: [\"Backend\", \"Frontend\", \"Data Scientist\", \"Mobile developer\"]\n",
    "df_merged[\"DevType\"].value_counts()"
   ]
  },
  {
   "cell_type": "code",
   "execution_count": 21,
   "metadata": {},
   "outputs": [],
   "source": [
    "types = [\"Developer, back-end\", \"Back-end developer\", \"Developer, front-end\", \"Front-end developer\", \"Data scientist or machine learning specialist\", \"Mobile developer\"]\n",
    "df_sampled = df_merged[df_merged[\"DevType\"].isin(types)]"
   ]
  },
  {
   "cell_type": "code",
   "execution_count": 22,
   "metadata": {},
   "outputs": [
    {
     "data": {
      "text/plain": [
       "(29367, 237)"
      ]
     },
     "execution_count": 22,
     "metadata": {},
     "output_type": "execute_result"
    }
   ],
   "source": [
    "df_sampled.shape"
   ]
  },
  {
   "cell_type": "markdown",
   "metadata": {},
   "source": [
    "### Analysis"
   ]
  },
  {
   "cell_type": "code",
   "execution_count": 23,
   "metadata": {},
   "outputs": [],
   "source": [
    "#Now first, we will look at the general situation of desired language. \n",
    "desired_langs = df_merged[\"DesiredLang\"].value_counts().to_dict()"
   ]
  },
  {
   "cell_type": "code",
   "execution_count": 24,
   "metadata": {},
   "outputs": [],
   "source": [
    "filtered = {k: v for k, v in desired_langs.items() if v >= 1000}"
   ]
  },
  {
   "cell_type": "code",
   "execution_count": 25,
   "metadata": {},
   "outputs": [
    {
     "data": {
      "text/plain": [
       "<Figure size 640x480 with 1 Axes>"
      ]
     },
     "metadata": {},
     "output_type": "display_data"
    }
   ],
   "source": [
    "import matplotlib.pyplot as plt\n",
    "plt.pie(list(filtered.values()), labels=list(filtered.keys()), autopct='%1.0f%%')\n",
    "plt.show()"
   ]
  },
  {
   "cell_type": "code",
   "execution_count": 26,
   "metadata": {},
   "outputs": [],
   "source": [
    "backend_dict = df_sampled[df_sampled[\"DevType\"].isin([\"Developer, back-end\", \"Back-end developer\"])][\"DesiredLang\"].value_counts().to_dict()\n",
    "backend_filtered = {k: v for k, v in backend_dict.items() if v >= 100}"
   ]
  },
  {
   "cell_type": "code",
   "execution_count": 28,
   "metadata": {},
   "outputs": [
    {
     "data": {
      "image/png": "[encoded data removed]",
      "text/plain": [
       "<Figure size 432x288 with 1 Axes>"
      ]
     },
     "metadata": {},
     "output_type": "display_data"
    }
   ],
   "source": [
    "plt.pie(list(backend_filtered.values()), labels=list(backend_filtered.keys()), autopct='%1.0f%%')\n",
    "plt.title(\"Backend developers\")\n",
    "plt.show()"
   ]
  },
  {
   "cell_type": "code",
   "execution_count": 30,
   "metadata": {},
   "outputs": [],
   "source": [
    "frontend_dict = df_sampled[df_sampled[\"DevType\"].isin([\"Developer, front-end\", \"Front-end developer\"])][\"DesiredLang\"].value_counts().to_dict()\n",
    "frontend_filtered = {k: v for k, v in frontend_dict.items() if v >= 100}"
   ]
  },
  {
   "cell_type": "code",
   "execution_count": 31,
   "metadata": {},
   "outputs": [
    {
     "data": {
      "image/png": "[encoded data removed]",
      "text/plain": [
       "<Figure size 432x288 with 1 Axes>"
      ]
     },
     "metadata": {},
     "output_type": "display_data"
    }
   ],
   "source": [
    "plt.pie(list(frontend_filtered.values()), labels=list(frontend_filtered.keys()), autopct='%1.0f%%')\n",
    "plt.title(\"Frontend developers\")\n",
    "plt.show()"
   ]
  },
  {
   "cell_type": "code",
   "execution_count": 32,
   "metadata": {},
   "outputs": [],
   "source": [
    "ds_dict = df_sampled[df_sampled[\"DevType\"].isin([\"Data scientist or machine learning specialist\"])][\"DesiredLang\"].value_counts().to_dict()\n",
    "ds_filtered = {k: v for k, v in ds_dict.items() if v >= 50}"
   ]
  },
  {
   "cell_type": "code",
   "execution_count": 33,
   "metadata": {},
   "outputs": [
    {
     "data": {
      "image/png": "[encoded data removed]",
      "text/plain": [
       "<Figure size 432x288 with 1 Axes>"
      ]
     },
     "metadata": {},
     "output_type": "display_data"
    }
   ],
   "source": [
    "plt.pie(list(ds_filtered.values()), labels=list(ds_filtered.keys()), autopct='%1.0f%%')\n",
    "plt.title(\"Data scientists/ML engineers\")\n",
    "plt.show()"
   ]
  },
  {
   "cell_type": "code",
   "execution_count": 34,
   "metadata": {},
   "outputs": [],
   "source": [
    "mobile_dict = df_sampled[df_sampled[\"DevType\"].isin([\"Mobile developer\"])][\"DesiredLang\"].value_counts().to_dict()\n",
    "mobile_filtered = {k: v for k, v in mobile_dict.items() if v >= 50}"
   ]
  },
  {
   "cell_type": "code",
   "execution_count": 35,
   "metadata": {},
   "outputs": [
    {
     "data": {
      "image/png": "[encoded data removed]",
      "text/plain": [
       "<Figure size 432x288 with 1 Axes>"
      ]
     },
     "metadata": {},
     "output_type": "display_data"
    }
   ],
   "source": [
    "plt.pie(list(mobile_filtered.values()), labels=list(mobile_filtered.keys()), autopct='%1.0f%%')\n",
    "plt.title(\"Mobile app developers\")\n",
    "plt.show()"
   ]
  },
  {
   "cell_type": "code",
   "execution_count": null,
   "metadata": {},
   "outputs": [],
   "source": []
  }
 ],
 "metadata": {
  "kernelspec": {
   "display_name": "Python 3 (ipykernel)",
   "language": "python",
   "name": "python3"
  },
  "language_info": {
   "codemirror_mode": {
    "name": "ipython",
    "version": 3
   },
   "file_extension": ".py",
   "mimetype": "text/x-python",
   "name": "python",
   "nbconvert_exporter": "python",
   "pygments_lexer": "ipython3",
   "version": "3.7.3"
  }
 },
 "nbformat": 4,
 "nbformat_minor": 2
}
