{
 "cells": [
  {
   "cell_type": "markdown",
   "metadata": {},
   "source": [
    "## Question III: Is computer science background affect the working language?"
   ]
  },
  {
   "cell_type": "markdown",
   "metadata": {},
   "source": [
    "It is a well-known fact that it is not necessary to study computer science to be successful in the software industry. But I am wondering whether there is a significant difference in programming language preferences between computer scientists and others."
   ]
  },
  {
   "cell_type": "markdown",
   "metadata": {},
   "source": [
    "To answer this one, we will look to  the usage ratio of languages between computer science graduates and others."
   ]
  },
  {
   "cell_type": "code",
   "execution_count": 2,
   "metadata": {},
   "outputs": [],
   "source": [
    "import pandas as pd"
   ]
  },
  {
   "cell_type": "markdown",
   "metadata": {},
   "source": [
    "### Gather data"
   ]
  },
  {
   "cell_type": "code",
   "execution_count": 17,
   "metadata": {},
   "outputs": [],
   "source": [
    "#read from file\n",
    "df_2018 = pd.read_csv(\"./data/survey_results_public_2018.csv\", low_memory=False)\n",
    "df_2019 = pd.read_csv(\"./data/survey_results_public_2019.csv\")\n",
    "df_2020 = pd.read_csv(\"./data/survey_results_public_2020.csv\")\n",
    "df_2021 = pd.read_csv(\"./data/survey_results_public_2021.csv\")\n",
    "\n",
    "df_merged1 = pd.concat([df_2018, df_2019], sort=False)\n",
    "df_merged2 = pd.concat([df_2020, df_2021], sort=False)\n",
    "df = pd.concat([df_merged1, df_merged2], sort=False)"
   ]
  },
  {
   "cell_type": "code",
   "execution_count": 45,
   "metadata": {},
   "outputs": [],
   "source": [
    "#Create a combined colum which gather LanguageWorkedWith from 2018, 2019 and 2020; LanguageHaveWorkedWith from 2021\n",
    "idx = len(df_2021)\n",
    "remaining_index = len(df) - idx \n",
    "new_column = df[\"LanguageWorkedWith\"][0:remaining_index].values.tolist()\n",
    "new_column.extend(df[\"LanguageHaveWorkedWith\"][remaining_index:].values.tolist())"
   ]
  },
  {
   "cell_type": "code",
   "execution_count": 47,
   "metadata": {},
   "outputs": [],
   "source": [
    "df[\"WorkedLanguage\"] = new_column"
   ]
  },
  {
   "cell_type": "markdown",
   "metadata": {},
   "source": [
    "### Clean"
   ]
  },
  {
   "cell_type": "code",
   "execution_count": 48,
   "metadata": {},
   "outputs": [],
   "source": [
    "df.dropna(subset=[\"UndergradMajor\", \"WorkedLanguage\"], inplace=True)"
   ]
  },
  {
   "cell_type": "markdown",
   "metadata": {},
   "source": [
    "For making analysis, we need to clean all the rows where \"UndergradMajor\" or \"WorkedLanguage\" is"
   ]
  },
  {
   "cell_type": "code",
   "execution_count": 49,
   "metadata": {},
   "outputs": [],
   "source": [
    "df.reset_index(inplace=True)"
   ]
  },
  {
   "cell_type": "code",
   "execution_count": 50,
   "metadata": {},
   "outputs": [
    {
     "data": {
      "text/plain": [
       "Computer science, computer engineering, or software engineering          68950\n",
       "Another engineering discipline (ex. civil, electrical, mechanical)        9430\n",
       "Information systems, information technology, or system administration     8366\n",
       "A natural science (ex. biology, chemistry, physics)                       4557\n",
       "Mathematics or statistics                                                 4173\n",
       "Web development or web design                                             3742\n",
       "A business discipline (ex. accounting, finance, marketing)                2653\n",
       "A humanities discipline (ex. literature, history, philosophy)             2272\n",
       "A social science (ex. anthropology, psychology, political science)        2006\n",
       "Fine arts or performing arts (ex. graphic design, music, studio art)      1658\n",
       "I never declared a major                                                  1109\n",
       "A health science (ex. nursing, pharmacy, radiology)                        409\n",
       "Name: UndergradMajor, dtype: int64"
      ]
     },
     "execution_count": 50,
     "metadata": {},
     "output_type": "execute_result"
    }
   ],
   "source": [
    "df[\"UndergradMajor\"].value_counts()"
   ]
  },
  {
   "cell_type": "code",
   "execution_count": 51,
   "metadata": {},
   "outputs": [],
   "source": [
    "cs_df = df[df[\"UndergradMajor\"] == \"Computer science, computer engineering, or software engineering\"]"
   ]
  },
  {
   "cell_type": "code",
   "execution_count": 52,
   "metadata": {},
   "outputs": [
    {
     "data": {
      "text/plain": [
       "109325"
      ]
     },
     "execution_count": 52,
     "metadata": {},
     "output_type": "execute_result"
    }
   ],
   "source": [
    "len(df)"
   ]
  },
  {
   "cell_type": "code",
   "execution_count": 53,
   "metadata": {},
   "outputs": [
    {
     "data": {
      "text/plain": [
       "(68950, 239)"
      ]
     },
     "execution_count": 53,
     "metadata": {},
     "output_type": "execute_result"
    }
   ],
   "source": [
    "cs_df.shape"
   ]
  },
  {
   "cell_type": "code",
   "execution_count": 54,
   "metadata": {},
   "outputs": [],
   "source": [
    "other_df = df.drop(index=cs_df.index)"
   ]
  },
  {
   "cell_type": "code",
   "execution_count": 55,
   "metadata": {},
   "outputs": [
    {
     "data": {
      "text/plain": [
       "(40375, 239)"
      ]
     },
     "execution_count": 55,
     "metadata": {},
     "output_type": "execute_result"
    }
   ],
   "source": [
    "other_df.shape"
   ]
  },
  {
   "cell_type": "markdown",
   "metadata": {},
   "source": [
    "### Analyse"
   ]
  },
  {
   "cell_type": "code",
   "execution_count": 3,
   "metadata": {},
   "outputs": [],
   "source": [
    "\"\"\"\n",
    "returns the ratio of language through the given dataframe and column\n",
    "input:\n",
    "    df: dataframe to search\n",
    "    col: column name to calculate frequency\n",
    "output:\n",
    "    langs_unified: dictionary that keeps lang name and frequency\n",
    "\"\"\"\n",
    "\n",
    "\n",
    "\n",
    "\n",
    "def find_frequency(df:pd.DataFrame, col:str):\n",
    "    df_length = len(df)\n",
    "    langs = df[col].value_counts()\n",
    "    #find occurances\n",
    "    langs_unified = {}\n",
    "    for l in langs.keys():\n",
    "        splitted = l.split(\";\")\n",
    "        for s in splitted:\n",
    "            if s in langs_unified.keys():\n",
    "                langs_unified[s] += langs[l]\n",
    "            else:\n",
    "                langs_unified[s] = langs[l]\n",
    "                \n",
    "                \n",
    "    #find frequency\n",
    "    for k,v in langs_unified.items():\n",
    "        langs_unified[k] = v/df_length\n",
    "    return langs_unified"
   ]
  },
  {
   "cell_type": "code",
   "execution_count": 71,
   "metadata": {},
   "outputs": [],
   "source": [
    "cs_langs_unified = find_frequency(cs_df, \"WorkedLanguage\")"
   ]
  },
  {
   "cell_type": "code",
   "execution_count": 72,
   "metadata": {},
   "outputs": [
    {
     "data": {
      "text/plain": [
       "{'Java': 0.497897026831037,\n",
       " 'C#': 0.362291515591008,\n",
       " 'JavaScript': 0.699303843364757,\n",
       " 'SQL': 0.577577955039884,\n",
       " 'HTML': 0.4145757795503988,\n",
       " 'CSS': 0.39546047860768674,\n",
       " 'TypeScript': 0.20845540246555475,\n",
       " 'PHP': 0.27286439448876,\n",
       " 'HTML/CSS': 0.24018854242204496,\n",
       " 'Objective-C': 0.07186366932559826,\n",
       " 'Swift': 0.08292965917331399,\n",
       " 'Python': 0.38281363306744015,\n",
       " 'Kotlin': 0.062175489485134156,\n",
       " 'Bash/Shell': 0.24274111675126903,\n",
       " 'Bash/Shell/PowerShell': 0.14529369108049311,\n",
       " 'C++': 0.2625670775924583,\n",
       " 'VB.NET': 0.04130529369108049,\n",
       " 'C': 0.2326178390137781,\n",
       " 'Scala': 0.04951414068165337,\n",
       " 'Ruby': 0.09469180565627267,\n",
       " 'Groovy': 0.03208121827411167,\n",
       " 'Other(s):': 0.032777374909354604,\n",
       " 'VBA': 0.039985496736765776,\n",
       " 'Delphi/Object Pascal': 0.015068890500362581,\n",
       " 'Go': 0.08008701957940537,\n",
       " 'Visual Basic 6': 0.02384336475707034,\n",
       " 'Assembly': 0.07232777374909355,\n",
       " 'CoffeeScript': 0.019332849891225527,\n",
       " 'R': 0.04436548223350254,\n",
       " 'F#': 0.013633067440174038,\n",
       " 'Dart': 0.007425670775924583,\n",
       " 'Perl': 0.02598984771573604,\n",
       " 'Lua': 0.019738941261783903,\n",
       " 'Clojure': 0.013836113125453227,\n",
       " 'Matlab': 0.030688905003625817,\n",
       " 'Rust': 0.026163886874546773,\n",
       " 'Erlang': 0.0104713560551124,\n",
       " 'Elixir': 0.005003625815808557,\n",
       " 'Haskell': 0.015315445975344453,\n",
       " 'Hack': 0.001551849166062364,\n",
       " 'Julia': 0.002175489485134155,\n",
       " 'Ocaml': 0.003872371283538796,\n",
       " 'Cobol': 0.004408992023205221,\n",
       " 'WebAssembly': 0.004568527918781726}"
      ]
     },
     "execution_count": 72,
     "metadata": {},
     "output_type": "execute_result"
    }
   ],
   "source": [
    "cs_langs_unified"
   ]
  },
  {
   "cell_type": "code",
   "execution_count": 73,
   "metadata": {},
   "outputs": [],
   "source": [
    "others_langs_unified = find_frequency(other_df, \"WorkedLanguage\")"
   ]
  },
  {
   "cell_type": "code",
   "execution_count": 74,
   "metadata": {},
   "outputs": [
    {
     "data": {
      "text/plain": [
       "{'JavaScript': 0.6806191950464396,\n",
       " 'PHP': 0.28752941176470587,\n",
       " 'SQL': 0.5580928792569659,\n",
       " 'HTML': 0.4063405572755418,\n",
       " 'CSS': 0.3851145510835913,\n",
       " 'C#': 0.2846315789473684,\n",
       " 'HTML/CSS': 0.2541919504643963,\n",
       " 'Python': 0.4035170278637771,\n",
       " 'Java': 0.3231950464396285,\n",
       " 'Bash/Shell': 0.2468359133126935,\n",
       " 'TypeScript': 0.1726811145510836,\n",
       " 'R': 0.0919876160990712,\n",
       " 'Bash/Shell/PowerShell': 0.1465015479876161,\n",
       " 'Objective-C': 0.05060061919504644,\n",
       " 'Swift': 0.05996284829721362,\n",
       " 'C++': 0.18989473684210526,\n",
       " 'VB.NET': 0.03918266253869969,\n",
       " 'Kotlin': 0.03529411764705882,\n",
       " 'C': 0.1698328173374613,\n",
       " 'Ruby': 0.10204334365325077,\n",
       " 'Other(s):': 0.04002476780185758,\n",
       " 'VBA': 0.06912693498452012,\n",
       " 'CoffeeScript': 0.021770897832817337,\n",
       " 'Delphi/Object Pascal': 0.015455108359133126,\n",
       " 'Groovy': 0.021671826625386997,\n",
       " 'Matlab': 0.04421052631578947,\n",
       " 'Scala': 0.035343653250773995,\n",
       " 'Perl': 0.026278637770897832,\n",
       " 'Assembly': 0.04861919504643963,\n",
       " 'Go': 0.06855727554179566,\n",
       " 'F#': 0.0116656346749226,\n",
       " 'Visual Basic 6': 0.02288544891640867,\n",
       " 'Clojure': 0.01344891640866873,\n",
       " 'Rust': 0.022241486068111455,\n",
       " 'Elixir': 0.005795665634674922,\n",
       " 'Haskell': 0.011492260061919505,\n",
       " 'Dart': 0.005547987616099071,\n",
       " 'Erlang': 0.009560371517027863,\n",
       " 'WebAssembly': 0.004086687306501548,\n",
       " 'Lua': 0.01701547987616099,\n",
       " 'Hack': 0.001411764705882353,\n",
       " 'Julia': 0.004829721362229102,\n",
       " 'Ocaml': 0.002154798761609907,\n",
       " 'Cobol': 0.0043343653250774}"
      ]
     },
     "execution_count": 74,
     "metadata": {},
     "output_type": "execute_result"
    }
   ],
   "source": [
    "others_langs_unified"
   ]
  },
  {
   "cell_type": "code",
   "execution_count": 89,
   "metadata": {},
   "outputs": [],
   "source": [
    "res_df = pd.DataFrame(data=list(cs_langs_unified.values()), index=list(cs_langs_unified.keys()))"
   ]
  },
  {
   "cell_type": "code",
   "execution_count": 90,
   "metadata": {},
   "outputs": [],
   "source": [
    "res_df[\"others\"] = res_df.index.map(others_langs_unified)"
   ]
  },
  {
   "cell_type": "code",
   "execution_count": 93,
   "metadata": {},
   "outputs": [],
   "source": [
    "res_df.index.name = \"Language\""
   ]
  },
  {
   "cell_type": "code",
   "execution_count": 94,
   "metadata": {},
   "outputs": [],
   "source": [
    "res_df.columns=[\"CS\", \"others\"]"
   ]
  },
  {
   "cell_type": "code",
   "execution_count": 96,
   "metadata": {},
   "outputs": [
    {
     "data": {
      "text/html": [
       "<div>\n",
       "<style scoped>\n",
       "    .dataframe tbody tr th:only-of-type {\n",
       "        vertical-align: middle;\n",
       "    }\n",
       "\n",
       "    .dataframe tbody tr th {\n",
       "        vertical-align: top;\n",
       "    }\n",
       "\n",
       "    .dataframe thead th {\n",
       "        text-align: right;\n",
       "    }\n",
       "</style>\n",
       "<table border=\"1\" class=\"dataframe\">\n",
       "  <thead>\n",
       "    <tr style=\"text-align: right;\">\n",
       "      <th></th>\n",
       "      <th>CS</th>\n",
       "      <th>others</th>\n",
       "    </tr>\n",
       "    <tr>\n",
       "      <th>Language</th>\n",
       "      <th></th>\n",
       "      <th></th>\n",
       "    </tr>\n",
       "  </thead>\n",
       "  <tbody>\n",
       "    <tr>\n",
       "      <th>Java</th>\n",
       "      <td>0.497897</td>\n",
       "      <td>0.323195</td>\n",
       "    </tr>\n",
       "    <tr>\n",
       "      <th>C#</th>\n",
       "      <td>0.362292</td>\n",
       "      <td>0.284632</td>\n",
       "    </tr>\n",
       "    <tr>\n",
       "      <th>JavaScript</th>\n",
       "      <td>0.699304</td>\n",
       "      <td>0.680619</td>\n",
       "    </tr>\n",
       "    <tr>\n",
       "      <th>SQL</th>\n",
       "      <td>0.577578</td>\n",
       "      <td>0.558093</td>\n",
       "    </tr>\n",
       "    <tr>\n",
       "      <th>HTML</th>\n",
       "      <td>0.414576</td>\n",
       "      <td>0.406341</td>\n",
       "    </tr>\n",
       "  </tbody>\n",
       "</table>\n",
       "</div>"
      ],
      "text/plain": [
       "                  CS    others\n",
       "Language                      \n",
       "Java        0.497897  0.323195\n",
       "C#          0.362292  0.284632\n",
       "JavaScript  0.699304  0.680619\n",
       "SQL         0.577578  0.558093\n",
       "HTML        0.414576  0.406341"
      ]
     },
     "execution_count": 96,
     "metadata": {},
     "output_type": "execute_result"
    }
   ],
   "source": [
    "res_df.head()"
   ]
  },
  {
   "cell_type": "code",
   "execution_count": 97,
   "metadata": {},
   "outputs": [],
   "source": [
    "res_df[\"diff_major_vals\"] = res_df[\"CS\"] - res_df[\"others\"]"
   ]
  },
  {
   "cell_type": "markdown",
   "metadata": {},
   "source": [
    "### Visualise"
   ]
  },
  {
   "cell_type": "code",
   "execution_count": 101,
   "metadata": {},
   "outputs": [
    {
     "data": {
      "text/html": [
       "<style  type=\"text/css\" >\n",
       "    #T_6225d106_150b_11ed_ad07_bb5dc7140dferow0_col2 {\n",
       "            width:  10em;\n",
       "             height:  80%;\n",
       "            background:  linear-gradient(90deg, transparent 21.4%, #5fba7d 21.4%, #5fba7d 100.0%, transparent 100.0%);\n",
       "        }    #T_6225d106_150b_11ed_ad07_bb5dc7140dferow1_col2 {\n",
       "            width:  10em;\n",
       "             height:  80%;\n",
       "            background:  linear-gradient(90deg, transparent 21.4%, #5fba7d 21.4%, #5fba7d 56.4%, transparent 56.4%);\n",
       "        }    #T_6225d106_150b_11ed_ad07_bb5dc7140dferow2_col2 {\n",
       "            width:  10em;\n",
       "             height:  80%;\n",
       "            background:  linear-gradient(90deg, transparent 21.4%, #5fba7d 21.4%, #5fba7d 29.8%, transparent 29.8%);\n",
       "        }    #T_6225d106_150b_11ed_ad07_bb5dc7140dferow3_col2 {\n",
       "            width:  10em;\n",
       "             height:  80%;\n",
       "            background:  linear-gradient(90deg, transparent 21.4%, #5fba7d 21.4%, #5fba7d 30.2%, transparent 30.2%);\n",
       "        }    #T_6225d106_150b_11ed_ad07_bb5dc7140dferow4_col2 {\n",
       "            width:  10em;\n",
       "             height:  80%;\n",
       "            background:  linear-gradient(90deg, transparent 21.4%, #5fba7d 21.4%, #5fba7d 25.1%, transparent 25.1%);\n",
       "        }    #T_6225d106_150b_11ed_ad07_bb5dc7140dferow5_col2 {\n",
       "            width:  10em;\n",
       "             height:  80%;\n",
       "            background:  linear-gradient(90deg, transparent 21.4%, #5fba7d 21.4%, #5fba7d 26.1%, transparent 26.1%);\n",
       "        }    #T_6225d106_150b_11ed_ad07_bb5dc7140dferow6_col2 {\n",
       "            width:  10em;\n",
       "             height:  80%;\n",
       "            background:  linear-gradient(90deg, transparent 21.4%, #5fba7d 21.4%, #5fba7d 37.5%, transparent 37.5%);\n",
       "        }    #T_6225d106_150b_11ed_ad07_bb5dc7140dferow7_col2 {\n",
       "            width:  10em;\n",
       "             height:  80%;\n",
       "            background:  linear-gradient(90deg, transparent 14.8%, #d65f5f 14.8%, #d65f5f 21.4%, transparent 21.4%);\n",
       "        }    #T_6225d106_150b_11ed_ad07_bb5dc7140dferow8_col2 {\n",
       "            width:  10em;\n",
       "             height:  80%;\n",
       "            background:  linear-gradient(90deg, transparent 15.1%, #d65f5f 15.1%, #d65f5f 21.4%, transparent 21.4%);\n",
       "        }    #T_6225d106_150b_11ed_ad07_bb5dc7140dferow9_col2 {\n",
       "            width:  10em;\n",
       "             height:  80%;\n",
       "            background:  linear-gradient(90deg, transparent 21.4%, #5fba7d 21.4%, #5fba7d 31.0%, transparent 31.0%);\n",
       "        }    #T_6225d106_150b_11ed_ad07_bb5dc7140dferow10_col2 {\n",
       "            width:  10em;\n",
       "             height:  80%;\n",
       "            background:  linear-gradient(90deg, transparent 21.4%, #5fba7d 21.4%, #5fba7d 31.8%, transparent 31.8%);\n",
       "        }    #T_6225d106_150b_11ed_ad07_bb5dc7140dferow11_col2 {\n",
       "            width:  10em;\n",
       "             height:  80%;\n",
       "            background:  linear-gradient(90deg, transparent 12.1%, #d65f5f 12.1%, #d65f5f 21.4%, transparent 21.4%);\n",
       "        }    #T_6225d106_150b_11ed_ad07_bb5dc7140dferow12_col2 {\n",
       "            width:  10em;\n",
       "             height:  80%;\n",
       "            background:  linear-gradient(90deg, transparent 21.4%, #5fba7d 21.4%, #5fba7d 33.5%, transparent 33.5%);\n",
       "        }    #T_6225d106_150b_11ed_ad07_bb5dc7140dferow13_col2 {\n",
       "            width:  10em;\n",
       "             height:  80%;\n",
       "            background:  linear-gradient(90deg, transparent 19.6%, #d65f5f 19.6%, #d65f5f 21.4%, transparent 21.4%);\n",
       "        }    #T_6225d106_150b_11ed_ad07_bb5dc7140dferow14_col2 {\n",
       "            width:  10em;\n",
       "             height:  80%;\n",
       "            background:  linear-gradient(90deg, transparent 20.9%, #d65f5f 20.9%, #d65f5f 21.4%, transparent 21.4%);\n",
       "        }    #T_6225d106_150b_11ed_ad07_bb5dc7140dferow15_col2 {\n",
       "            width:  10em;\n",
       "             height:  80%;\n",
       "            background:  linear-gradient(90deg, transparent 21.4%, #5fba7d 21.4%, #5fba7d 54.1%, transparent 54.1%);\n",
       "        }    #T_6225d106_150b_11ed_ad07_bb5dc7140dferow16_col2 {\n",
       "            width:  10em;\n",
       "             height:  80%;\n",
       "            background:  linear-gradient(90deg, transparent 21.4%, #5fba7d 21.4%, #5fba7d 22.4%, transparent 22.4%);\n",
       "        }    #T_6225d106_150b_11ed_ad07_bb5dc7140dferow17_col2 {\n",
       "            width:  10em;\n",
       "             height:  80%;\n",
       "            background:  linear-gradient(90deg, transparent 21.4%, #5fba7d 21.4%, #5fba7d 49.7%, transparent 49.7%);\n",
       "        }    #T_6225d106_150b_11ed_ad07_bb5dc7140dferow18_col2 {\n",
       "            width:  10em;\n",
       "             height:  80%;\n",
       "            background:  linear-gradient(90deg, transparent 21.4%, #5fba7d 21.4%, #5fba7d 27.8%, transparent 27.8%);\n",
       "        }    #T_6225d106_150b_11ed_ad07_bb5dc7140dferow19_col2 {\n",
       "            width:  10em;\n",
       "             height:  80%;\n",
       "            background:  linear-gradient(90deg, transparent 18.1%, #d65f5f 18.1%, #d65f5f 21.4%, transparent 21.4%);\n",
       "        }    #T_6225d106_150b_11ed_ad07_bb5dc7140dferow20_col2 {\n",
       "            width:  10em;\n",
       "             height:  80%;\n",
       "            background:  linear-gradient(90deg, transparent 21.4%, #5fba7d 21.4%, #5fba7d 26.1%, transparent 26.1%);\n",
       "        }    #T_6225d106_150b_11ed_ad07_bb5dc7140dferow21_col2 {\n",
       "            width:  10em;\n",
       "             height:  80%;\n",
       "            background:  linear-gradient(90deg, transparent 18.2%, #d65f5f 18.2%, #d65f5f 21.4%, transparent 21.4%);\n",
       "        }    #T_6225d106_150b_11ed_ad07_bb5dc7140dferow22_col2 {\n",
       "            width:  10em;\n",
       "             height:  80%;\n",
       "            background:  linear-gradient(90deg, transparent 8.3%, #d65f5f 8.3%, #d65f5f 21.4%, transparent 21.4%);\n",
       "        }    #T_6225d106_150b_11ed_ad07_bb5dc7140dferow23_col2 {\n",
       "            width:  10em;\n",
       "             height:  80%;\n",
       "            background:  linear-gradient(90deg, transparent 21.2%, #d65f5f 21.2%, #d65f5f 21.4%, transparent 21.4%);\n",
       "        }    #T_6225d106_150b_11ed_ad07_bb5dc7140dferow24_col2 {\n",
       "            width:  10em;\n",
       "             height:  80%;\n",
       "            background:  linear-gradient(90deg, transparent 21.4%, #5fba7d 21.4%, #5fba7d 26.6%, transparent 26.6%);\n",
       "        }    #T_6225d106_150b_11ed_ad07_bb5dc7140dferow25_col2 {\n",
       "            width:  10em;\n",
       "             height:  80%;\n",
       "            background:  linear-gradient(90deg, transparent 21.4%, #5fba7d 21.4%, #5fba7d 21.9%, transparent 21.9%);\n",
       "        }    #T_6225d106_150b_11ed_ad07_bb5dc7140dferow26_col2 {\n",
       "            width:  10em;\n",
       "             height:  80%;\n",
       "            background:  linear-gradient(90deg, transparent 21.4%, #5fba7d 21.4%, #5fba7d 32.1%, transparent 32.1%);\n",
       "        }    #T_6225d106_150b_11ed_ad07_bb5dc7140dferow27_col2 {\n",
       "            width:  10em;\n",
       "             height:  80%;\n",
       "            background:  linear-gradient(90deg, transparent 20.3%, #d65f5f 20.3%, #d65f5f 21.4%, transparent 21.4%);\n",
       "        }    #T_6225d106_150b_11ed_ad07_bb5dc7140dferow28_col2 {\n",
       "            width:  10em;\n",
       "             height:  80%;\n",
       "            background:  linear-gradient(90deg,#d65f5f 21.4%, transparent 21.4%);\n",
       "        }    #T_6225d106_150b_11ed_ad07_bb5dc7140dferow29_col2 {\n",
       "            width:  10em;\n",
       "             height:  80%;\n",
       "            background:  linear-gradient(90deg, transparent 21.4%, #5fba7d 21.4%, #5fba7d 22.3%, transparent 22.3%);\n",
       "        }    #T_6225d106_150b_11ed_ad07_bb5dc7140dferow30_col2 {\n",
       "            width:  10em;\n",
       "             height:  80%;\n",
       "            background:  linear-gradient(90deg, transparent 21.4%, #5fba7d 21.4%, #5fba7d 22.3%, transparent 22.3%);\n",
       "        }    #T_6225d106_150b_11ed_ad07_bb5dc7140dferow31_col2 {\n",
       "            width:  10em;\n",
       "             height:  80%;\n",
       "            background:  linear-gradient(90deg, transparent 21.3%, #d65f5f 21.3%, #d65f5f 21.4%, transparent 21.4%);\n",
       "        }    #T_6225d106_150b_11ed_ad07_bb5dc7140dferow32_col2 {\n",
       "            width:  10em;\n",
       "             height:  80%;\n",
       "            background:  linear-gradient(90deg, transparent 21.4%, #5fba7d 21.4%, #5fba7d 22.6%, transparent 22.6%);\n",
       "        }    #T_6225d106_150b_11ed_ad07_bb5dc7140dferow33_col2 {\n",
       "            width:  10em;\n",
       "             height:  80%;\n",
       "            background:  linear-gradient(90deg, transparent 21.4%, #5fba7d 21.4%, #5fba7d 21.6%, transparent 21.6%);\n",
       "        }    #T_6225d106_150b_11ed_ad07_bb5dc7140dferow34_col2 {\n",
       "            width:  10em;\n",
       "             height:  80%;\n",
       "            background:  linear-gradient(90deg, transparent 15.3%, #d65f5f 15.3%, #d65f5f 21.4%, transparent 21.4%);\n",
       "        }    #T_6225d106_150b_11ed_ad07_bb5dc7140dferow35_col2 {\n",
       "            width:  10em;\n",
       "             height:  80%;\n",
       "            background:  linear-gradient(90deg, transparent 21.4%, #5fba7d 21.4%, #5fba7d 23.2%, transparent 23.2%);\n",
       "        }    #T_6225d106_150b_11ed_ad07_bb5dc7140dferow36_col2 {\n",
       "            width:  10em;\n",
       "             height:  80%;\n",
       "            background:  linear-gradient(90deg, transparent 21.4%, #5fba7d 21.4%, #5fba7d 21.8%, transparent 21.8%);\n",
       "        }    #T_6225d106_150b_11ed_ad07_bb5dc7140dferow37_col2 {\n",
       "            width:  10em;\n",
       "             height:  80%;\n",
       "            background:  linear-gradient(90deg, transparent 21.1%, #d65f5f 21.1%, #d65f5f 21.4%, transparent 21.4%);\n",
       "        }    #T_6225d106_150b_11ed_ad07_bb5dc7140dferow38_col2 {\n",
       "            width:  10em;\n",
       "             height:  80%;\n",
       "            background:  linear-gradient(90deg, transparent 21.4%, #5fba7d 21.4%, #5fba7d 23.1%, transparent 23.1%);\n",
       "        }    #T_6225d106_150b_11ed_ad07_bb5dc7140dferow39_col2 {\n",
       "            width:  10em;\n",
       "             height:  80%;\n",
       "            background:  linear-gradient(90deg, transparent 21.4%, #5fba7d 21.4%, #5fba7d 21.5%, transparent 21.5%);\n",
       "        }    #T_6225d106_150b_11ed_ad07_bb5dc7140dferow40_col2 {\n",
       "            width:  10em;\n",
       "             height:  80%;\n",
       "            background:  linear-gradient(90deg, transparent 20.2%, #d65f5f 20.2%, #d65f5f 21.4%, transparent 21.4%);\n",
       "        }    #T_6225d106_150b_11ed_ad07_bb5dc7140dferow41_col2 {\n",
       "            width:  10em;\n",
       "             height:  80%;\n",
       "            background:  linear-gradient(90deg, transparent 21.4%, #5fba7d 21.4%, #5fba7d 22.2%, transparent 22.2%);\n",
       "        }    #T_6225d106_150b_11ed_ad07_bb5dc7140dferow42_col2 {\n",
       "            width:  10em;\n",
       "             height:  80%;\n",
       "            background:  linear-gradient(90deg, transparent 21.4%, #5fba7d 21.4%, #5fba7d 21.5%, transparent 21.5%);\n",
       "        }    #T_6225d106_150b_11ed_ad07_bb5dc7140dferow43_col2 {\n",
       "            width:  10em;\n",
       "             height:  80%;\n",
       "            background:  linear-gradient(90deg, transparent 21.4%, #5fba7d 21.4%, #5fba7d 21.6%, transparent 21.6%);\n",
       "        }</style><table id=\"T_6225d106_150b_11ed_ad07_bb5dc7140dfe\" ><thead>    <tr>        <th class=\"blank level0\" ></th>        <th class=\"col_heading level0 col0\" >CS</th>        <th class=\"col_heading level0 col1\" >others</th>        <th class=\"col_heading level0 col2\" >diff_major_vals</th>    </tr>    <tr>        <th class=\"index_name level0\" >Language</th>        <th class=\"blank\" ></th>        <th class=\"blank\" ></th>        <th class=\"blank\" ></th>    </tr></thead><tbody>\n",
       "                <tr>\n",
       "                        <th id=\"T_6225d106_150b_11ed_ad07_bb5dc7140dfelevel0_row0\" class=\"row_heading level0 row0\" >Java</th>\n",
       "                        <td id=\"T_6225d106_150b_11ed_ad07_bb5dc7140dferow0_col0\" class=\"data row0 col0\" >0.497897</td>\n",
       "                        <td id=\"T_6225d106_150b_11ed_ad07_bb5dc7140dferow0_col1\" class=\"data row0 col1\" >0.323195</td>\n",
       "                        <td id=\"T_6225d106_150b_11ed_ad07_bb5dc7140dferow0_col2\" class=\"data row0 col2\" >0.174702</td>\n",
       "            </tr>\n",
       "            <tr>\n",
       "                        <th id=\"T_6225d106_150b_11ed_ad07_bb5dc7140dfelevel0_row1\" class=\"row_heading level0 row1\" >C#</th>\n",
       "                        <td id=\"T_6225d106_150b_11ed_ad07_bb5dc7140dferow1_col0\" class=\"data row1 col0\" >0.362292</td>\n",
       "                        <td id=\"T_6225d106_150b_11ed_ad07_bb5dc7140dferow1_col1\" class=\"data row1 col1\" >0.284632</td>\n",
       "                        <td id=\"T_6225d106_150b_11ed_ad07_bb5dc7140dferow1_col2\" class=\"data row1 col2\" >0.0776599</td>\n",
       "            </tr>\n",
       "            <tr>\n",
       "                        <th id=\"T_6225d106_150b_11ed_ad07_bb5dc7140dfelevel0_row2\" class=\"row_heading level0 row2\" >JavaScript</th>\n",
       "                        <td id=\"T_6225d106_150b_11ed_ad07_bb5dc7140dferow2_col0\" class=\"data row2 col0\" >0.699304</td>\n",
       "                        <td id=\"T_6225d106_150b_11ed_ad07_bb5dc7140dferow2_col1\" class=\"data row2 col1\" >0.680619</td>\n",
       "                        <td id=\"T_6225d106_150b_11ed_ad07_bb5dc7140dferow2_col2\" class=\"data row2 col2\" >0.0186846</td>\n",
       "            </tr>\n",
       "            <tr>\n",
       "                        <th id=\"T_6225d106_150b_11ed_ad07_bb5dc7140dfelevel0_row3\" class=\"row_heading level0 row3\" >SQL</th>\n",
       "                        <td id=\"T_6225d106_150b_11ed_ad07_bb5dc7140dferow3_col0\" class=\"data row3 col0\" >0.577578</td>\n",
       "                        <td id=\"T_6225d106_150b_11ed_ad07_bb5dc7140dferow3_col1\" class=\"data row3 col1\" >0.558093</td>\n",
       "                        <td id=\"T_6225d106_150b_11ed_ad07_bb5dc7140dferow3_col2\" class=\"data row3 col2\" >0.0194851</td>\n",
       "            </tr>\n",
       "            <tr>\n",
       "                        <th id=\"T_6225d106_150b_11ed_ad07_bb5dc7140dfelevel0_row4\" class=\"row_heading level0 row4\" >HTML</th>\n",
       "                        <td id=\"T_6225d106_150b_11ed_ad07_bb5dc7140dferow4_col0\" class=\"data row4 col0\" >0.414576</td>\n",
       "                        <td id=\"T_6225d106_150b_11ed_ad07_bb5dc7140dferow4_col1\" class=\"data row4 col1\" >0.406341</td>\n",
       "                        <td id=\"T_6225d106_150b_11ed_ad07_bb5dc7140dferow4_col2\" class=\"data row4 col2\" >0.00823522</td>\n",
       "            </tr>\n",
       "            <tr>\n",
       "                        <th id=\"T_6225d106_150b_11ed_ad07_bb5dc7140dfelevel0_row5\" class=\"row_heading level0 row5\" >CSS</th>\n",
       "                        <td id=\"T_6225d106_150b_11ed_ad07_bb5dc7140dferow5_col0\" class=\"data row5 col0\" >0.39546</td>\n",
       "                        <td id=\"T_6225d106_150b_11ed_ad07_bb5dc7140dferow5_col1\" class=\"data row5 col1\" >0.385115</td>\n",
       "                        <td id=\"T_6225d106_150b_11ed_ad07_bb5dc7140dferow5_col2\" class=\"data row5 col2\" >0.0103459</td>\n",
       "            </tr>\n",
       "            <tr>\n",
       "                        <th id=\"T_6225d106_150b_11ed_ad07_bb5dc7140dfelevel0_row6\" class=\"row_heading level0 row6\" >TypeScript</th>\n",
       "                        <td id=\"T_6225d106_150b_11ed_ad07_bb5dc7140dferow6_col0\" class=\"data row6 col0\" >0.208455</td>\n",
       "                        <td id=\"T_6225d106_150b_11ed_ad07_bb5dc7140dferow6_col1\" class=\"data row6 col1\" >0.172681</td>\n",
       "                        <td id=\"T_6225d106_150b_11ed_ad07_bb5dc7140dferow6_col2\" class=\"data row6 col2\" >0.0357743</td>\n",
       "            </tr>\n",
       "            <tr>\n",
       "                        <th id=\"T_6225d106_150b_11ed_ad07_bb5dc7140dfelevel0_row7\" class=\"row_heading level0 row7\" >PHP</th>\n",
       "                        <td id=\"T_6225d106_150b_11ed_ad07_bb5dc7140dferow7_col0\" class=\"data row7 col0\" >0.272864</td>\n",
       "                        <td id=\"T_6225d106_150b_11ed_ad07_bb5dc7140dferow7_col1\" class=\"data row7 col1\" >0.287529</td>\n",
       "                        <td id=\"T_6225d106_150b_11ed_ad07_bb5dc7140dferow7_col2\" class=\"data row7 col2\" >-0.014665</td>\n",
       "            </tr>\n",
       "            <tr>\n",
       "                        <th id=\"T_6225d106_150b_11ed_ad07_bb5dc7140dfelevel0_row8\" class=\"row_heading level0 row8\" >HTML/CSS</th>\n",
       "                        <td id=\"T_6225d106_150b_11ed_ad07_bb5dc7140dferow8_col0\" class=\"data row8 col0\" >0.240189</td>\n",
       "                        <td id=\"T_6225d106_150b_11ed_ad07_bb5dc7140dferow8_col1\" class=\"data row8 col1\" >0.254192</td>\n",
       "                        <td id=\"T_6225d106_150b_11ed_ad07_bb5dc7140dferow8_col2\" class=\"data row8 col2\" >-0.0140034</td>\n",
       "            </tr>\n",
       "            <tr>\n",
       "                        <th id=\"T_6225d106_150b_11ed_ad07_bb5dc7140dfelevel0_row9\" class=\"row_heading level0 row9\" >Objective-C</th>\n",
       "                        <td id=\"T_6225d106_150b_11ed_ad07_bb5dc7140dferow9_col0\" class=\"data row9 col0\" >0.0718637</td>\n",
       "                        <td id=\"T_6225d106_150b_11ed_ad07_bb5dc7140dferow9_col1\" class=\"data row9 col1\" >0.0506006</td>\n",
       "                        <td id=\"T_6225d106_150b_11ed_ad07_bb5dc7140dferow9_col2\" class=\"data row9 col2\" >0.0212631</td>\n",
       "            </tr>\n",
       "            <tr>\n",
       "                        <th id=\"T_6225d106_150b_11ed_ad07_bb5dc7140dfelevel0_row10\" class=\"row_heading level0 row10\" >Swift</th>\n",
       "                        <td id=\"T_6225d106_150b_11ed_ad07_bb5dc7140dferow10_col0\" class=\"data row10 col0\" >0.0829297</td>\n",
       "                        <td id=\"T_6225d106_150b_11ed_ad07_bb5dc7140dferow10_col1\" class=\"data row10 col1\" >0.0599628</td>\n",
       "                        <td id=\"T_6225d106_150b_11ed_ad07_bb5dc7140dferow10_col2\" class=\"data row10 col2\" >0.0229668</td>\n",
       "            </tr>\n",
       "            <tr>\n",
       "                        <th id=\"T_6225d106_150b_11ed_ad07_bb5dc7140dfelevel0_row11\" class=\"row_heading level0 row11\" >Python</th>\n",
       "                        <td id=\"T_6225d106_150b_11ed_ad07_bb5dc7140dferow11_col0\" class=\"data row11 col0\" >0.382814</td>\n",
       "                        <td id=\"T_6225d106_150b_11ed_ad07_bb5dc7140dferow11_col1\" class=\"data row11 col1\" >0.403517</td>\n",
       "                        <td id=\"T_6225d106_150b_11ed_ad07_bb5dc7140dferow11_col2\" class=\"data row11 col2\" >-0.0207034</td>\n",
       "            </tr>\n",
       "            <tr>\n",
       "                        <th id=\"T_6225d106_150b_11ed_ad07_bb5dc7140dfelevel0_row12\" class=\"row_heading level0 row12\" >Kotlin</th>\n",
       "                        <td id=\"T_6225d106_150b_11ed_ad07_bb5dc7140dferow12_col0\" class=\"data row12 col0\" >0.0621755</td>\n",
       "                        <td id=\"T_6225d106_150b_11ed_ad07_bb5dc7140dferow12_col1\" class=\"data row12 col1\" >0.0352941</td>\n",
       "                        <td id=\"T_6225d106_150b_11ed_ad07_bb5dc7140dferow12_col2\" class=\"data row12 col2\" >0.0268814</td>\n",
       "            </tr>\n",
       "            <tr>\n",
       "                        <th id=\"T_6225d106_150b_11ed_ad07_bb5dc7140dfelevel0_row13\" class=\"row_heading level0 row13\" >Bash/Shell</th>\n",
       "                        <td id=\"T_6225d106_150b_11ed_ad07_bb5dc7140dferow13_col0\" class=\"data row13 col0\" >0.242741</td>\n",
       "                        <td id=\"T_6225d106_150b_11ed_ad07_bb5dc7140dferow13_col1\" class=\"data row13 col1\" >0.246836</td>\n",
       "                        <td id=\"T_6225d106_150b_11ed_ad07_bb5dc7140dferow13_col2\" class=\"data row13 col2\" >-0.0040948</td>\n",
       "            </tr>\n",
       "            <tr>\n",
       "                        <th id=\"T_6225d106_150b_11ed_ad07_bb5dc7140dfelevel0_row14\" class=\"row_heading level0 row14\" >Bash/Shell/PowerShell</th>\n",
       "                        <td id=\"T_6225d106_150b_11ed_ad07_bb5dc7140dferow14_col0\" class=\"data row14 col0\" >0.145294</td>\n",
       "                        <td id=\"T_6225d106_150b_11ed_ad07_bb5dc7140dferow14_col1\" class=\"data row14 col1\" >0.146502</td>\n",
       "                        <td id=\"T_6225d106_150b_11ed_ad07_bb5dc7140dferow14_col2\" class=\"data row14 col2\" >-0.00120786</td>\n",
       "            </tr>\n",
       "            <tr>\n",
       "                        <th id=\"T_6225d106_150b_11ed_ad07_bb5dc7140dfelevel0_row15\" class=\"row_heading level0 row15\" >C++</th>\n",
       "                        <td id=\"T_6225d106_150b_11ed_ad07_bb5dc7140dferow15_col0\" class=\"data row15 col0\" >0.262567</td>\n",
       "                        <td id=\"T_6225d106_150b_11ed_ad07_bb5dc7140dferow15_col1\" class=\"data row15 col1\" >0.189895</td>\n",
       "                        <td id=\"T_6225d106_150b_11ed_ad07_bb5dc7140dferow15_col2\" class=\"data row15 col2\" >0.0726723</td>\n",
       "            </tr>\n",
       "            <tr>\n",
       "                        <th id=\"T_6225d106_150b_11ed_ad07_bb5dc7140dfelevel0_row16\" class=\"row_heading level0 row16\" >VB.NET</th>\n",
       "                        <td id=\"T_6225d106_150b_11ed_ad07_bb5dc7140dferow16_col0\" class=\"data row16 col0\" >0.0413053</td>\n",
       "                        <td id=\"T_6225d106_150b_11ed_ad07_bb5dc7140dferow16_col1\" class=\"data row16 col1\" >0.0391827</td>\n",
       "                        <td id=\"T_6225d106_150b_11ed_ad07_bb5dc7140dferow16_col2\" class=\"data row16 col2\" >0.00212263</td>\n",
       "            </tr>\n",
       "            <tr>\n",
       "                        <th id=\"T_6225d106_150b_11ed_ad07_bb5dc7140dfelevel0_row17\" class=\"row_heading level0 row17\" >C</th>\n",
       "                        <td id=\"T_6225d106_150b_11ed_ad07_bb5dc7140dferow17_col0\" class=\"data row17 col0\" >0.232618</td>\n",
       "                        <td id=\"T_6225d106_150b_11ed_ad07_bb5dc7140dferow17_col1\" class=\"data row17 col1\" >0.169833</td>\n",
       "                        <td id=\"T_6225d106_150b_11ed_ad07_bb5dc7140dferow17_col2\" class=\"data row17 col2\" >0.062785</td>\n",
       "            </tr>\n",
       "            <tr>\n",
       "                        <th id=\"T_6225d106_150b_11ed_ad07_bb5dc7140dfelevel0_row18\" class=\"row_heading level0 row18\" >Scala</th>\n",
       "                        <td id=\"T_6225d106_150b_11ed_ad07_bb5dc7140dferow18_col0\" class=\"data row18 col0\" >0.0495141</td>\n",
       "                        <td id=\"T_6225d106_150b_11ed_ad07_bb5dc7140dferow18_col1\" class=\"data row18 col1\" >0.0353437</td>\n",
       "                        <td id=\"T_6225d106_150b_11ed_ad07_bb5dc7140dferow18_col2\" class=\"data row18 col2\" >0.0141705</td>\n",
       "            </tr>\n",
       "            <tr>\n",
       "                        <th id=\"T_6225d106_150b_11ed_ad07_bb5dc7140dfelevel0_row19\" class=\"row_heading level0 row19\" >Ruby</th>\n",
       "                        <td id=\"T_6225d106_150b_11ed_ad07_bb5dc7140dferow19_col0\" class=\"data row19 col0\" >0.0946918</td>\n",
       "                        <td id=\"T_6225d106_150b_11ed_ad07_bb5dc7140dferow19_col1\" class=\"data row19 col1\" >0.102043</td>\n",
       "                        <td id=\"T_6225d106_150b_11ed_ad07_bb5dc7140dferow19_col2\" class=\"data row19 col2\" >-0.00735154</td>\n",
       "            </tr>\n",
       "            <tr>\n",
       "                        <th id=\"T_6225d106_150b_11ed_ad07_bb5dc7140dfelevel0_row20\" class=\"row_heading level0 row20\" >Groovy</th>\n",
       "                        <td id=\"T_6225d106_150b_11ed_ad07_bb5dc7140dferow20_col0\" class=\"data row20 col0\" >0.0320812</td>\n",
       "                        <td id=\"T_6225d106_150b_11ed_ad07_bb5dc7140dferow20_col1\" class=\"data row20 col1\" >0.0216718</td>\n",
       "                        <td id=\"T_6225d106_150b_11ed_ad07_bb5dc7140dferow20_col2\" class=\"data row20 col2\" >0.0104094</td>\n",
       "            </tr>\n",
       "            <tr>\n",
       "                        <th id=\"T_6225d106_150b_11ed_ad07_bb5dc7140dfelevel0_row21\" class=\"row_heading level0 row21\" >Other(s):</th>\n",
       "                        <td id=\"T_6225d106_150b_11ed_ad07_bb5dc7140dferow21_col0\" class=\"data row21 col0\" >0.0327774</td>\n",
       "                        <td id=\"T_6225d106_150b_11ed_ad07_bb5dc7140dferow21_col1\" class=\"data row21 col1\" >0.0400248</td>\n",
       "                        <td id=\"T_6225d106_150b_11ed_ad07_bb5dc7140dferow21_col2\" class=\"data row21 col2\" >-0.00724739</td>\n",
       "            </tr>\n",
       "            <tr>\n",
       "                        <th id=\"T_6225d106_150b_11ed_ad07_bb5dc7140dfelevel0_row22\" class=\"row_heading level0 row22\" >VBA</th>\n",
       "                        <td id=\"T_6225d106_150b_11ed_ad07_bb5dc7140dferow22_col0\" class=\"data row22 col0\" >0.0399855</td>\n",
       "                        <td id=\"T_6225d106_150b_11ed_ad07_bb5dc7140dferow22_col1\" class=\"data row22 col1\" >0.0691269</td>\n",
       "                        <td id=\"T_6225d106_150b_11ed_ad07_bb5dc7140dferow22_col2\" class=\"data row22 col2\" >-0.0291414</td>\n",
       "            </tr>\n",
       "            <tr>\n",
       "                        <th id=\"T_6225d106_150b_11ed_ad07_bb5dc7140dfelevel0_row23\" class=\"row_heading level0 row23\" >Delphi/Object Pascal</th>\n",
       "                        <td id=\"T_6225d106_150b_11ed_ad07_bb5dc7140dferow23_col0\" class=\"data row23 col0\" >0.0150689</td>\n",
       "                        <td id=\"T_6225d106_150b_11ed_ad07_bb5dc7140dferow23_col1\" class=\"data row23 col1\" >0.0154551</td>\n",
       "                        <td id=\"T_6225d106_150b_11ed_ad07_bb5dc7140dferow23_col2\" class=\"data row23 col2\" >-0.000386218</td>\n",
       "            </tr>\n",
       "            <tr>\n",
       "                        <th id=\"T_6225d106_150b_11ed_ad07_bb5dc7140dfelevel0_row24\" class=\"row_heading level0 row24\" >Go</th>\n",
       "                        <td id=\"T_6225d106_150b_11ed_ad07_bb5dc7140dferow24_col0\" class=\"data row24 col0\" >0.080087</td>\n",
       "                        <td id=\"T_6225d106_150b_11ed_ad07_bb5dc7140dferow24_col1\" class=\"data row24 col1\" >0.0685573</td>\n",
       "                        <td id=\"T_6225d106_150b_11ed_ad07_bb5dc7140dferow24_col2\" class=\"data row24 col2\" >0.0115297</td>\n",
       "            </tr>\n",
       "            <tr>\n",
       "                        <th id=\"T_6225d106_150b_11ed_ad07_bb5dc7140dfelevel0_row25\" class=\"row_heading level0 row25\" >Visual Basic 6</th>\n",
       "                        <td id=\"T_6225d106_150b_11ed_ad07_bb5dc7140dferow25_col0\" class=\"data row25 col0\" >0.0238434</td>\n",
       "                        <td id=\"T_6225d106_150b_11ed_ad07_bb5dc7140dferow25_col1\" class=\"data row25 col1\" >0.0228854</td>\n",
       "                        <td id=\"T_6225d106_150b_11ed_ad07_bb5dc7140dferow25_col2\" class=\"data row25 col2\" >0.000957916</td>\n",
       "            </tr>\n",
       "            <tr>\n",
       "                        <th id=\"T_6225d106_150b_11ed_ad07_bb5dc7140dfelevel0_row26\" class=\"row_heading level0 row26\" >Assembly</th>\n",
       "                        <td id=\"T_6225d106_150b_11ed_ad07_bb5dc7140dferow26_col0\" class=\"data row26 col0\" >0.0723278</td>\n",
       "                        <td id=\"T_6225d106_150b_11ed_ad07_bb5dc7140dferow26_col1\" class=\"data row26 col1\" >0.0486192</td>\n",
       "                        <td id=\"T_6225d106_150b_11ed_ad07_bb5dc7140dferow26_col2\" class=\"data row26 col2\" >0.0237086</td>\n",
       "            </tr>\n",
       "            <tr>\n",
       "                        <th id=\"T_6225d106_150b_11ed_ad07_bb5dc7140dfelevel0_row27\" class=\"row_heading level0 row27\" >CoffeeScript</th>\n",
       "                        <td id=\"T_6225d106_150b_11ed_ad07_bb5dc7140dferow27_col0\" class=\"data row27 col0\" >0.0193328</td>\n",
       "                        <td id=\"T_6225d106_150b_11ed_ad07_bb5dc7140dferow27_col1\" class=\"data row27 col1\" >0.0217709</td>\n",
       "                        <td id=\"T_6225d106_150b_11ed_ad07_bb5dc7140dferow27_col2\" class=\"data row27 col2\" >-0.00243805</td>\n",
       "            </tr>\n",
       "            <tr>\n",
       "                        <th id=\"T_6225d106_150b_11ed_ad07_bb5dc7140dfelevel0_row28\" class=\"row_heading level0 row28\" >R</th>\n",
       "                        <td id=\"T_6225d106_150b_11ed_ad07_bb5dc7140dferow28_col0\" class=\"data row28 col0\" >0.0443655</td>\n",
       "                        <td id=\"T_6225d106_150b_11ed_ad07_bb5dc7140dferow28_col1\" class=\"data row28 col1\" >0.0919876</td>\n",
       "                        <td id=\"T_6225d106_150b_11ed_ad07_bb5dc7140dferow28_col2\" class=\"data row28 col2\" >-0.0476221</td>\n",
       "            </tr>\n",
       "            <tr>\n",
       "                        <th id=\"T_6225d106_150b_11ed_ad07_bb5dc7140dfelevel0_row29\" class=\"row_heading level0 row29\" >F#</th>\n",
       "                        <td id=\"T_6225d106_150b_11ed_ad07_bb5dc7140dferow29_col0\" class=\"data row29 col0\" >0.0136331</td>\n",
       "                        <td id=\"T_6225d106_150b_11ed_ad07_bb5dc7140dferow29_col1\" class=\"data row29 col1\" >0.0116656</td>\n",
       "                        <td id=\"T_6225d106_150b_11ed_ad07_bb5dc7140dferow29_col2\" class=\"data row29 col2\" >0.00196743</td>\n",
       "            </tr>\n",
       "            <tr>\n",
       "                        <th id=\"T_6225d106_150b_11ed_ad07_bb5dc7140dfelevel0_row30\" class=\"row_heading level0 row30\" >Dart</th>\n",
       "                        <td id=\"T_6225d106_150b_11ed_ad07_bb5dc7140dferow30_col0\" class=\"data row30 col0\" >0.00742567</td>\n",
       "                        <td id=\"T_6225d106_150b_11ed_ad07_bb5dc7140dferow30_col1\" class=\"data row30 col1\" >0.00554799</td>\n",
       "                        <td id=\"T_6225d106_150b_11ed_ad07_bb5dc7140dferow30_col2\" class=\"data row30 col2\" >0.00187768</td>\n",
       "            </tr>\n",
       "            <tr>\n",
       "                        <th id=\"T_6225d106_150b_11ed_ad07_bb5dc7140dfelevel0_row31\" class=\"row_heading level0 row31\" >Perl</th>\n",
       "                        <td id=\"T_6225d106_150b_11ed_ad07_bb5dc7140dferow31_col0\" class=\"data row31 col0\" >0.0259898</td>\n",
       "                        <td id=\"T_6225d106_150b_11ed_ad07_bb5dc7140dferow31_col1\" class=\"data row31 col1\" >0.0262786</td>\n",
       "                        <td id=\"T_6225d106_150b_11ed_ad07_bb5dc7140dferow31_col2\" class=\"data row31 col2\" >-0.00028879</td>\n",
       "            </tr>\n",
       "            <tr>\n",
       "                        <th id=\"T_6225d106_150b_11ed_ad07_bb5dc7140dfelevel0_row32\" class=\"row_heading level0 row32\" >Lua</th>\n",
       "                        <td id=\"T_6225d106_150b_11ed_ad07_bb5dc7140dferow32_col0\" class=\"data row32 col0\" >0.0197389</td>\n",
       "                        <td id=\"T_6225d106_150b_11ed_ad07_bb5dc7140dferow32_col1\" class=\"data row32 col1\" >0.0170155</td>\n",
       "                        <td id=\"T_6225d106_150b_11ed_ad07_bb5dc7140dferow32_col2\" class=\"data row32 col2\" >0.00272346</td>\n",
       "            </tr>\n",
       "            <tr>\n",
       "                        <th id=\"T_6225d106_150b_11ed_ad07_bb5dc7140dfelevel0_row33\" class=\"row_heading level0 row33\" >Clojure</th>\n",
       "                        <td id=\"T_6225d106_150b_11ed_ad07_bb5dc7140dferow33_col0\" class=\"data row33 col0\" >0.0138361</td>\n",
       "                        <td id=\"T_6225d106_150b_11ed_ad07_bb5dc7140dferow33_col1\" class=\"data row33 col1\" >0.0134489</td>\n",
       "                        <td id=\"T_6225d106_150b_11ed_ad07_bb5dc7140dferow33_col2\" class=\"data row33 col2\" >0.000387197</td>\n",
       "            </tr>\n",
       "            <tr>\n",
       "                        <th id=\"T_6225d106_150b_11ed_ad07_bb5dc7140dfelevel0_row34\" class=\"row_heading level0 row34\" >Matlab</th>\n",
       "                        <td id=\"T_6225d106_150b_11ed_ad07_bb5dc7140dferow34_col0\" class=\"data row34 col0\" >0.0306889</td>\n",
       "                        <td id=\"T_6225d106_150b_11ed_ad07_bb5dc7140dferow34_col1\" class=\"data row34 col1\" >0.0442105</td>\n",
       "                        <td id=\"T_6225d106_150b_11ed_ad07_bb5dc7140dferow34_col2\" class=\"data row34 col2\" >-0.0135216</td>\n",
       "            </tr>\n",
       "            <tr>\n",
       "                        <th id=\"T_6225d106_150b_11ed_ad07_bb5dc7140dfelevel0_row35\" class=\"row_heading level0 row35\" >Rust</th>\n",
       "                        <td id=\"T_6225d106_150b_11ed_ad07_bb5dc7140dferow35_col0\" class=\"data row35 col0\" >0.0261639</td>\n",
       "                        <td id=\"T_6225d106_150b_11ed_ad07_bb5dc7140dferow35_col1\" class=\"data row35 col1\" >0.0222415</td>\n",
       "                        <td id=\"T_6225d106_150b_11ed_ad07_bb5dc7140dferow35_col2\" class=\"data row35 col2\" >0.0039224</td>\n",
       "            </tr>\n",
       "            <tr>\n",
       "                        <th id=\"T_6225d106_150b_11ed_ad07_bb5dc7140dfelevel0_row36\" class=\"row_heading level0 row36\" >Erlang</th>\n",
       "                        <td id=\"T_6225d106_150b_11ed_ad07_bb5dc7140dferow36_col0\" class=\"data row36 col0\" >0.0104714</td>\n",
       "                        <td id=\"T_6225d106_150b_11ed_ad07_bb5dc7140dferow36_col1\" class=\"data row36 col1\" >0.00956037</td>\n",
       "                        <td id=\"T_6225d106_150b_11ed_ad07_bb5dc7140dferow36_col2\" class=\"data row36 col2\" >0.000910985</td>\n",
       "            </tr>\n",
       "            <tr>\n",
       "                        <th id=\"T_6225d106_150b_11ed_ad07_bb5dc7140dfelevel0_row37\" class=\"row_heading level0 row37\" >Elixir</th>\n",
       "                        <td id=\"T_6225d106_150b_11ed_ad07_bb5dc7140dferow37_col0\" class=\"data row37 col0\" >0.00500363</td>\n",
       "                        <td id=\"T_6225d106_150b_11ed_ad07_bb5dc7140dferow37_col1\" class=\"data row37 col1\" >0.00579567</td>\n",
       "                        <td id=\"T_6225d106_150b_11ed_ad07_bb5dc7140dferow37_col2\" class=\"data row37 col2\" >-0.00079204</td>\n",
       "            </tr>\n",
       "            <tr>\n",
       "                        <th id=\"T_6225d106_150b_11ed_ad07_bb5dc7140dfelevel0_row38\" class=\"row_heading level0 row38\" >Haskell</th>\n",
       "                        <td id=\"T_6225d106_150b_11ed_ad07_bb5dc7140dferow38_col0\" class=\"data row38 col0\" >0.0153154</td>\n",
       "                        <td id=\"T_6225d106_150b_11ed_ad07_bb5dc7140dferow38_col1\" class=\"data row38 col1\" >0.0114923</td>\n",
       "                        <td id=\"T_6225d106_150b_11ed_ad07_bb5dc7140dferow38_col2\" class=\"data row38 col2\" >0.00382319</td>\n",
       "            </tr>\n",
       "            <tr>\n",
       "                        <th id=\"T_6225d106_150b_11ed_ad07_bb5dc7140dfelevel0_row39\" class=\"row_heading level0 row39\" >Hack</th>\n",
       "                        <td id=\"T_6225d106_150b_11ed_ad07_bb5dc7140dferow39_col0\" class=\"data row39 col0\" >0.00155185</td>\n",
       "                        <td id=\"T_6225d106_150b_11ed_ad07_bb5dc7140dferow39_col1\" class=\"data row39 col1\" >0.00141176</td>\n",
       "                        <td id=\"T_6225d106_150b_11ed_ad07_bb5dc7140dferow39_col2\" class=\"data row39 col2\" >0.000140084</td>\n",
       "            </tr>\n",
       "            <tr>\n",
       "                        <th id=\"T_6225d106_150b_11ed_ad07_bb5dc7140dfelevel0_row40\" class=\"row_heading level0 row40\" >Julia</th>\n",
       "                        <td id=\"T_6225d106_150b_11ed_ad07_bb5dc7140dferow40_col0\" class=\"data row40 col0\" >0.00217549</td>\n",
       "                        <td id=\"T_6225d106_150b_11ed_ad07_bb5dc7140dferow40_col1\" class=\"data row40 col1\" >0.00482972</td>\n",
       "                        <td id=\"T_6225d106_150b_11ed_ad07_bb5dc7140dferow40_col2\" class=\"data row40 col2\" >-0.00265423</td>\n",
       "            </tr>\n",
       "            <tr>\n",
       "                        <th id=\"T_6225d106_150b_11ed_ad07_bb5dc7140dfelevel0_row41\" class=\"row_heading level0 row41\" >Ocaml</th>\n",
       "                        <td id=\"T_6225d106_150b_11ed_ad07_bb5dc7140dferow41_col0\" class=\"data row41 col0\" >0.00387237</td>\n",
       "                        <td id=\"T_6225d106_150b_11ed_ad07_bb5dc7140dferow41_col1\" class=\"data row41 col1\" >0.0021548</td>\n",
       "                        <td id=\"T_6225d106_150b_11ed_ad07_bb5dc7140dferow41_col2\" class=\"data row41 col2\" >0.00171757</td>\n",
       "            </tr>\n",
       "            <tr>\n",
       "                        <th id=\"T_6225d106_150b_11ed_ad07_bb5dc7140dfelevel0_row42\" class=\"row_heading level0 row42\" >Cobol</th>\n",
       "                        <td id=\"T_6225d106_150b_11ed_ad07_bb5dc7140dferow42_col0\" class=\"data row42 col0\" >0.00440899</td>\n",
       "                        <td id=\"T_6225d106_150b_11ed_ad07_bb5dc7140dferow42_col1\" class=\"data row42 col1\" >0.00433437</td>\n",
       "                        <td id=\"T_6225d106_150b_11ed_ad07_bb5dc7140dferow42_col2\" class=\"data row42 col2\" >7.46267e-05</td>\n",
       "            </tr>\n",
       "            <tr>\n",
       "                        <th id=\"T_6225d106_150b_11ed_ad07_bb5dc7140dfelevel0_row43\" class=\"row_heading level0 row43\" >WebAssembly</th>\n",
       "                        <td id=\"T_6225d106_150b_11ed_ad07_bb5dc7140dferow43_col0\" class=\"data row43 col0\" >0.00456853</td>\n",
       "                        <td id=\"T_6225d106_150b_11ed_ad07_bb5dc7140dferow43_col1\" class=\"data row43 col1\" >0.00408669</td>\n",
       "                        <td id=\"T_6225d106_150b_11ed_ad07_bb5dc7140dferow43_col2\" class=\"data row43 col2\" >0.000481841</td>\n",
       "            </tr>\n",
       "    </tbody></table>"
      ],
      "text/plain": [
       "<pandas.io.formats.style.Styler at 0x7fc504276828>"
      ]
     },
     "execution_count": 101,
     "metadata": {},
     "output_type": "execute_result"
    }
   ],
   "source": [
    "res_df.style.bar(subset=['diff_major_vals'], align='mid', color=['#d65f5f', '#5fba7d'])"
   ]
  },
  {
   "cell_type": "markdown",
   "metadata": {},
   "source": [
    "As we in the table, the programming languages which are more low-level such as Java, C++, and C are used by computer scientists. There is over a 5% difference in preference of these listed languages. This may be because computer science or engineering programs teach these ones within their curriculum. And these are near to computer hardware (you can manage the memory using pointers etc.)."
   ]
  },
  {
   "cell_type": "code",
   "execution_count": null,
   "metadata": {},
   "outputs": [],
   "source": []
  }
 ],
 "metadata": {
  "kernelspec": {
   "display_name": "Python 3 (ipykernel)",
   "language": "python",
   "name": "python3"
  },
  "language_info": {
   "codemirror_mode": {
    "name": "ipython",
    "version": 3
   },
   "file_extension": ".py",
   "mimetype": "text/x-python",
   "name": "python",
   "nbconvert_exporter": "python",
   "pygments_lexer": "ipython3",
   "version": "3.7.3"
  }
 },
 "nbformat": 4,
 "nbformat_minor": 2
}
